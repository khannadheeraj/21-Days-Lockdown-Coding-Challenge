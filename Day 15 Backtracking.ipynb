{
 "cells": [
  {
   "cell_type": "markdown",
   "metadata": {},
   "source": [
    "## Q1 Given a string S, we can transform every letter individually to be lowercase or uppercase to create another string.  Return a list of all possible strings we could create.\n",
    "\n",
    "Examples:\n",
    "Input: S = \"a1b2\"\n",
    "Output: [\"a1b2\", \"a1B2\", \"A1b2\", \"A1B2\"]\n",
    "\n",
    "Input: S = \"3z4\"\n",
    "Output: [\"3z4\", \"3Z4\"]\n",
    "\n",
    "Input: S = \"12345\"\n",
    "Output: [\"12345\"]"
   ]
  },
  {
   "cell_type": "code",
   "execution_count": 6,
   "metadata": {},
   "outputs": [
    {
     "data": {
      "text/plain": [
       "['3z4', '3Z4']"
      ]
     },
     "execution_count": 6,
     "metadata": {},
     "output_type": "execute_result"
    }
   ],
   "source": [
    "class Solution(object):\n",
    "    def letterCasePermutation(self, S):\n",
    "        self.res=[]\n",
    "        self.backtrack(S,'',0)\n",
    "        return self.res\n",
    "    def backtrack(self,S,path,index):\n",
    "        if index==len(S):\n",
    "            self.res.append(path)\n",
    "            return \n",
    "        \n",
    "        if S[index].isalpha():\n",
    "            self.backtrack(S,path+S[index].lower(),index+1)\n",
    "            self.backtrack(S,path+S[index].upper(),index+1)\n",
    "        else:\n",
    "            self.backtrack(S,path+S[index],index+1)\n",
    "            \n",
    "t=Solution()\n",
    "s=\"3z4\"\n",
    "t.letterCasePermutation(s)\n",
    "        \n",
    "    \n",
    "        "
   ]
  },
  {
   "cell_type": "markdown",
   "metadata": {},
   "source": [
    "## Q2 You have a set of tiles, where each tile has one letter tiles[i] printed on it.  Return the number of possible non-empty sequences of letters you can make.\n",
    "\n",
    " \n",
    "\n",
    "Example 1:\n",
    "\n",
    "Input: \"AAB\"\n",
    "Output: 8\n",
    "Explanation: The possible sequences are \"A\", \"B\", \"AA\", \"AB\", \"BA\", \"AAB\", \"ABA\", \"BAA\"."
   ]
  },
  {
   "cell_type": "code",
   "execution_count": 7,
   "metadata": {},
   "outputs": [
    {
     "data": {
      "text/plain": [
       "8"
      ]
     },
     "execution_count": 7,
     "metadata": {},
     "output_type": "execute_result"
    }
   ],
   "source": [
    "class Solution(object):\n",
    "    def numTilePossibilities(self, tiles):\n",
    "        result=set()\n",
    "        def dfs(path,t):\n",
    "            if path:\n",
    "                result.add(path)\n",
    "            for i in range(len(t)):\n",
    "                dfs(path+t[i],t[:i]+t[i+1:])\n",
    "        dfs(\"\",tiles)\n",
    "        return len(result)\n",
    "        \n",
    "t=Solution()\n",
    "t.numTilePossibilities('AAB')"
   ]
  },
  {
   "cell_type": "markdown",
   "metadata": {},
   "source": [
    "## Q3) Path with Maximum Gold\n",
    "\n",
    "In a gold mine grid of size m * n, each cell in this mine has an integer representing the amount of gold in that cell, 0 if it is empty.\n",
    "\n",
    "Return the maximum amount of gold you can collect under the conditions:\n",
    "\n",
    "Every time you are located in a cell you will collect all the gold in that cell.\n",
    "From your position you can walk one step to the left, right, up or down.\n",
    "You can't visit the same cell more than once.\n",
    "Never visit a cell with 0 gold.\n",
    "You can start and stop collecting gold from any position in the grid that has some gold.\n",
    " "
   ]
  },
  {
   "cell_type": "code",
   "execution_count": 13,
   "metadata": {},
   "outputs": [
    {
     "data": {
      "text/plain": [
       "24"
      ]
     },
     "execution_count": 13,
     "metadata": {},
     "output_type": "execute_result"
    }
   ],
   "source": [
    "class Solution(object):\n",
    "    def getMaximumGold(self, grid):\n",
    "        \n",
    "        def search(i,j,gold_so_far):\n",
    "            self.gold_amt_max=max(self.gold_amt_max,gold_so_far)\n",
    "            \n",
    "            if 0<=i<len(grid) and 0 <=j<len(grid[0]) and grid[i][j] !=0:\n",
    "                \n",
    "                gold_amt=grid[i][j]\n",
    "                grid[i][j]=0\n",
    "                neighbour=[[i+1,j],[i-1,j],[i,j+1],[i,j-1]]\n",
    "                for x,y in neighbour:\n",
    "                    search(x,y,gold_so_far+gold_amt)\n",
    "                grid[i][j]=gold_amt\n",
    "                \n",
    "            \n",
    "        \n",
    "        \n",
    "        \n",
    "        self.gold_amt_max=0\n",
    "        for i in range(len(grid)):\n",
    "            for j in range(len(grid[0])):\n",
    "                if grid[i][j]>0:\n",
    "                    search(i,j,0)\n",
    "                \n",
    "        return self.gold_amt_max\n",
    "t=Solution()\n",
    "grid = [[0,6,0],[5,8,7],[0,9,0]]\n",
    "t.getMaximumGold(grid)\n",
    "       \n",
    "    "
   ]
  },
  {
   "cell_type": "code",
   "execution_count": 14,
   "metadata": {},
   "outputs": [
    {
     "name": "stdout",
     "output_type": "stream",
     "text": [
      "0 1\n",
      "1 2\n",
      "2 3\n",
      "3 4\n"
     ]
    }
   ],
   "source": [
    "t=[1,2,3,4]\n",
    "for i ,j in enumerate(t):\n",
    "    print(i,j)"
   ]
  },
  {
   "cell_type": "code",
   "execution_count": null,
   "metadata": {},
   "outputs": [],
   "source": []
  }
 ],
 "metadata": {
  "kernelspec": {
   "display_name": "Python 3",
   "language": "python",
   "name": "python3"
  },
  "language_info": {
   "codemirror_mode": {
    "name": "ipython",
    "version": 3
   },
   "file_extension": ".py",
   "mimetype": "text/x-python",
   "name": "python",
   "nbconvert_exporter": "python",
   "pygments_lexer": "ipython3",
   "version": "3.7.4"
  }
 },
 "nbformat": 4,
 "nbformat_minor": 2
}

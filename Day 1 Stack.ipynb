{
 "cells": [
  {
   "cell_type": "markdown",
   "metadata": {},
   "source": [
    "## Q 1) Remove Duplicate Letters\n",
    "Given a string A consisting of lowercase English alphabets. Find and return lexicographically smallest string B after removing duplicate letters from A so that every letter appears once and only once.\n",
    "\n",
    "##### Input: \"bcabc\"\n",
    "##### Output: \"abc\""
   ]
  },
  {
   "cell_type": "code",
   "execution_count": 2,
   "metadata": {},
   "outputs": [
    {
     "name": "stdout",
     "output_type": "stream",
     "text": [
      "{'b': 3, 'c': 4, 'a': 2}\n"
     ]
    }
   ],
   "source": [
    "## Approach:\n",
    "## If there is no condition to return in lexicographic order than problem will be very simple.\n",
    "## in this Case we can store the last index of each character: So for given Input. last_index for each character will be\n",
    "s=\"bcabc\"\n",
    "last_index={}\n",
    "for i in range(len(s)):\n",
    "    last_index[s[i]]=i\n",
    "print(last_index)\n"
   ]
  },
  {
   "cell_type": "code",
   "execution_count": 3,
   "metadata": {},
   "outputs": [
    {
     "name": "stdout",
     "output_type": "stream",
     "text": [
      "abc\n"
     ]
    }
   ],
   "source": [
    "stack=[]\n",
    "for i,ch in enumerate(s):\n",
    "    if ch not in stack:\n",
    "        while stack and ch<stack[-1] and i<last_index[stack[-1]]:## When i = 2, stack is ['bc'], current character ch is 'a'.\n",
    "            stack.pop() ## As 'a' is smaller than 'c' and i is smaller than last_index['c'], we pop 'c' stack,## then stack becomes ['b']. Similarly, we pop 'b' as well. \n",
    "        stack.append(ch)\n",
    "print(\"\".join(stack))\n",
    "        \n",
    "\n",
    "\n",
    "## At the end of this iteration, we add current character a into the cur_result resulting in ['a']."
   ]
  },
  {
   "cell_type": "code",
   "execution_count": null,
   "metadata": {},
   "outputs": [],
   "source": [
    "## So FInal Code is:\n",
    "class Solution:\n",
    "    # @param A : string\n",
    "    # @return a strings\n",
    "    def solve(self, A):\n",
    "        last_index={}\n",
    "        stack=[]\n",
    "        for i in range(len(A)):\n",
    "            last_index[A[i]] =i\n",
    "        for i,ch in enumerate(A):\n",
    "            if ch not in stack:\n",
    "                while stack and ch <stack[-1] and i<last_index[stack[-1]]:\n",
    "                    stack.pop()\n",
    "                stack.append(ch)\n",
    "        return \"\".join(stack)\n"
   ]
  },
  {
   "cell_type": "markdown",
   "metadata": {},
   "source": [
    "## Q 2)Reverse a stack using recursion\n",
    "Given a stack of integers A. You are required to reverse the stack using recursion. You are not allowed to use loop constructs like while, for..etc, Return A after reversing it using recursion. NOTE: It is mandatory to reverse A using recursion. \n",
    "Input Format\n",
    "The only argument given is the integer array A.\n",
    "Output Format\n",
    "Return the reversal of A using stack.\n",
    "Constraints\n",
    "1 <= length of the array <= 2000\n",
    "1 <= A[i] <= 10^8 \n",
    "For Example\n",
    "Input 1:\n",
    "    A = [1, 5, 3, 2, 4]\n",
    "Output 1:\n",
    "    [4, 2, 3, 5, 1]\n",
    "\n",
    "Input 2:\n",
    "    A = [5, 17, 100, 11]\n",
    "Output 2:\n",
    "    [11, 100, 17, 5]"
   ]
  },
  {
   "cell_type": "code",
   "execution_count": 11,
   "metadata": {},
   "outputs": [
    {
     "data": {
      "text/plain": [
       "[4, 2, 3, 5, 1]"
      ]
     },
     "execution_count": 11,
     "metadata": {},
     "output_type": "execute_result"
    }
   ],
   "source": [
    "## Space  Complexity O(n) Time Complexity O(n).\n",
    "\n",
    "def reverse(l1,l2):\n",
    "    if len(l1)==0:\n",
    "        return \n",
    "    while len(l1) !=1:\n",
    "        l2.append(l1.pop())\n",
    "    t=l1.pop()\n",
    "    while len(l2) !=0:\n",
    "        l1.append(l2.pop())\n",
    "    reverse(l1,l2)\n",
    "    l1.append(t)\n",
    "    return l1\n",
    "l1=[1,5,3,2,4]\n",
    "l2=[]\n",
    "reverse(l1,l2)"
   ]
  },
  {
   "cell_type": "markdown",
   "metadata": {},
   "source": [
    "## Q 3) Evaluate the value of an arithmetic expression in Reverse Polish Notation.\n",
    "\n",
    "Valid operators are +, -, *, /. Each operand may be an integer or another expression.\n",
    "\n",
    "Note:\n",
    "\n",
    "Division between two integers should truncate toward zero.\n",
    "The given RPN expression is always valid. That means the expression would always evaluate to a result and there won't be any divide by zero operation.\n",
    "Example 1:\n",
    "\n",
    "Input: [\"2\", \"1\", \"+\", \"3\", \"*\"]\n",
    "Output: 9\n",
    "Explanation: ((2 + 1) * 3) = 9\n"
   ]
  },
  {
   "cell_type": "code",
   "execution_count": 15,
   "metadata": {},
   "outputs": [
    {
     "data": {
      "text/plain": [
       "9"
      ]
     },
     "execution_count": 15,
     "metadata": {},
     "output_type": "execute_result"
    }
   ],
   "source": [
    "def reversePolishNotation(A):\n",
    "    token=[\"+\",\"-\",\"*\",\"/\"]\n",
    "    stack=[]\n",
    "    for t in A:\n",
    "        if t not in token:\n",
    "            stack.append(int(t))\n",
    "        else:\n",
    "            a,b=stack.pop(),stack.pop()\n",
    "            if t==\"+\":\n",
    "                stack.append(int(a)+int(b))\n",
    "            elif t==\"-\":\n",
    "                stack.append(int(b)-int(a))\n",
    "            elif t==\"*\":\n",
    "                stack.append(int(a)*int(b))\n",
    "            else:\n",
    "                stack.append(int(b)//int(a))\n",
    "    return stack.pop()\n",
    "\n",
    "A=[\"2\", \"1\", \"+\", \"3\", \"*\"] \n",
    "\n",
    "reversePolishNotation(A)\n",
    "\n",
    "\n"
   ]
  },
  {
   "cell_type": "markdown",
   "metadata": {},
   "source": [
    "## Q 4) Reduntant Bracket\n",
    "\n",
    "Given a string A denoting an expression. It contains the following operators '+', '-', '*', '/'. Chech whether A has redundant braces or not. Return 1 if A has redundant braces, else return 0. Note: A will be always a valid expression. \n",
    "Input Format\n",
    "The only argument given is string A.\n",
    "Output Format\n",
    "Return 1 if string has redundant braces, else return 0.\n",
    "\n",
    "For Example\n",
    "Input 1:\n",
    "\n",
    "    A = \"((a + b))\"\n",
    "Output 1:\n",
    "    1\n",
    "    Explanation 1:\n",
    "        ((a + b)) has redundant braces so answer will be 1.\n",
    "\n",
    "Input 2:\n",
    "    A = \"(a + (a + b))\"\n",
    "Output 2:\n",
    "    0\n",
    "    Explanation 2:\n",
    "        (a + (a + b)) doesn't have have any redundant braces so answer will be 0."
   ]
  },
  {
   "cell_type": "code",
   "execution_count": 16,
   "metadata": {},
   "outputs": [],
   "source": [
    "def brace(s):\n",
    "    operator=[\"+\",\"-\",\"/\",\"*\"]\n",
    "    operator_count=0\n",
    "    bracket_count=0\n",
    "\n",
    "    for i in range(len(A)):\n",
    "        if A[i]=='(' and A[i+2]==')':\n",
    "            return 1\n",
    "        if A[i] in operator:\n",
    "            operator_count +=1\n",
    "        if A[i]=='(':\n",
    "            bracket_count +=1\n",
    "    if bracket_count >operator_count:\n",
    "        return 1\n",
    "    return 0\n",
    " "
   ]
  },
  {
   "cell_type": "code",
   "execution_count": null,
   "metadata": {},
   "outputs": [],
   "source": []
  }
 ],
 "metadata": {
  "kernelspec": {
   "display_name": "Python 3",
   "language": "python",
   "name": "python3"
  },
  "language_info": {
   "codemirror_mode": {
    "name": "ipython",
    "version": 3
   },
   "file_extension": ".py",
   "mimetype": "text/x-python",
   "name": "python",
   "nbconvert_exporter": "python",
   "pygments_lexer": "ipython3",
   "version": "3.7.4"
  }
 },
 "nbformat": 4,
 "nbformat_minor": 2
}

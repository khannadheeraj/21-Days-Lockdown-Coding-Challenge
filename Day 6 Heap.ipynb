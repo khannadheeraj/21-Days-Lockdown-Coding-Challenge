{
 "cells": [
  {
   "cell_type": "markdown",
   "metadata": {},
   "source": [
    "## PriorityQueue"
   ]
  },
  {
   "cell_type": "code",
   "execution_count": 3,
   "metadata": {},
   "outputs": [
    {
     "name": "stdout",
     "output_type": "stream",
     "text": [
      "D\n",
      "B\n",
      "C\n",
      "A\n"
     ]
    }
   ],
   "source": [
    "class PriorityQueueNode:\n",
    "    def __init__(self,value,priority):\n",
    "        self.value=value\n",
    "        self.priority=priority\n",
    "    \n",
    "class PriorityQueue:\n",
    "    def __init__(self):\n",
    "        self.pq=[]\n",
    "    \n",
    "    def getSize(self):\n",
    "        return len(self.pq)\n",
    "    \n",
    "    def isEmpty(self):\n",
    "        return self.getSize()==0\n",
    "    \n",
    "    def getMin(self):\n",
    "        if self.isEmpty() is True:\n",
    "            return None\n",
    "        return self.pq[0]\n",
    "    \n",
    "    def __percolateUp(self):\n",
    "        childIndex=self.getSize()-1\n",
    "        \n",
    "        \n",
    "        while childIndex >0:\n",
    "            parentIndex=(childIndex-1)//2\n",
    "            if self.pq[childIndex].priority < self.pq[parentIndex].priority:\n",
    "                self.pq[childIndex] , self.pq[parentIndex]=self.pq[parentIndex], self.pq[childIndex] \n",
    "                childIndex=parentIndex\n",
    "            else:\n",
    "                break\n",
    "     \n",
    "    def __percolateDown(self):\n",
    "        parentIndex=0\n",
    "        leftChildIndex=2*parentIndex+1\n",
    "        rightChildIndex=2*parentIndex+2\n",
    "        \n",
    "        while leftChildIndex < self.getSize() and rightChildIndex < self.getSize():\n",
    "            minIndex=parentIndex\n",
    "            if self.pq[minIndex].priority > self.pq[leftChildIndex].priority:\n",
    "                minIndex=leftChildIndex\n",
    "            if self.pq[minIndex].priority > self.pq[rightChildIndex].priority:\n",
    "                 minIndex=rightChildIndex\n",
    "            \n",
    "            if minIndex==parentIndex:\n",
    "                break\n",
    "            \n",
    "            self.pq[parentIndex] , self.pq[minIndex]=self.pq[minIndex], self.pq[parentIndex] \n",
    "            parentIndex=minIndex\n",
    "            leftChildIndex=2*parentIndex+1\n",
    "            rightChildIndex=2*parentIndex+2\n",
    "                \n",
    "                \n",
    "    \n",
    "    def remove(self):\n",
    "        if self.isEmpty():\n",
    "            return None\n",
    "        ele=self.pq[0].value\n",
    "        self.pq[0]=self.pq[self.getSize()-1]\n",
    "        self.pq.pop()\n",
    "        self.__percolateDown()\n",
    "        return ele\n",
    "        \n",
    "    def insert(self,value,priority):\n",
    "        pqNode=PriorityQueueNode(value,priority)\n",
    "        self.pq.append(pqNode)\n",
    "        self.__percolateUp()\n",
    "        \n",
    "pq=PriorityQueue()\n",
    "pq.insert('A',10)\n",
    "pq.insert('B',5)\n",
    "pq.insert('C',19)\n",
    "pq.insert('D',4)\n",
    "for i in range(4):\n",
    "    print(pq.remove())"
   ]
  },
  {
   "cell_type": "markdown",
   "metadata": {},
   "source": [
    "## Heap Sort Code"
   ]
  },
  {
   "cell_type": "code",
   "execution_count": 7,
   "metadata": {},
   "outputs": [
    {
     "name": "stdout",
     "output_type": "stream",
     "text": [
      "4 7 6 3 9 11 10\n",
      "11 9 10 7 6 4 3 "
     ]
    }
   ],
   "source": [
    "def down_heapify(arr,i,n):\n",
    "    ParentIndex=i\n",
    "    leftChildIndex=2*ParentIndex+1\n",
    "    rightChildIndex=2*ParentIndex+2\n",
    "   \n",
    "    \n",
    "    while leftChildIndex <n or rightChildIndex<n:\n",
    "       \n",
    "        minIndex=ParentIndex\n",
    "        if arr[leftChildIndex]<arr[ParentIndex]:\n",
    "            arr[leftChildIndex],arr[ParentIndex]=arr[ParentIndex],arr[leftChildIndex]\n",
    "            minIndex=leftChildIndex\n",
    "            \n",
    "        if arr[rightChildIndex]<arr[ParentIndex]:\n",
    "            arr[rightChildIndex],arr[ParentIndex]=arr[ParentIndex],arr[rightChildIndex]\n",
    "            minIndex=rightChildIndex\n",
    "            \n",
    "        if minIndex==ParentIndex:\n",
    "            return\n",
    "        \n",
    "        ParentIndex=minIndex\n",
    "        leftChildIndex=2*ParentIndex+1\n",
    "        rightChildIndex=2*ParentIndex+2\n",
    "        \n",
    "    return\n",
    "\n",
    "            \n",
    "           \n",
    "\n",
    "def heapsort(arr):\n",
    "    n=len(arr)\n",
    "    for i in range(n//2,-1,-1):\n",
    "        down_heapify(arr,i,n)\n",
    "        \n",
    "    for i in range(n-1,0,-1):\n",
    "        arr[0],arr[i]=arr[i],arr[0]\n",
    "        down_heapify(arr,0,i)\n",
    "        \n",
    "\n",
    "\n",
    "arr=[int(ele) for ele in input().split()]\n",
    "heapsort(arr)\n",
    "for i in arr:\n",
    "    print(i,end=\" \")"
   ]
  },
  {
   "cell_type": "markdown",
   "metadata": {},
   "source": [
    "## Inbuilt Heap"
   ]
  },
  {
   "cell_type": "code",
   "execution_count": 8,
   "metadata": {},
   "outputs": [
    {
     "data": {
      "text/plain": [
       "[1, 3, 2, 4, 6, 10, 2]"
      ]
     },
     "execution_count": 8,
     "metadata": {},
     "output_type": "execute_result"
    }
   ],
   "source": [
    "import heapq\n",
    "li=[1,4,2,3,6,10,2]\n",
    "heapq.heapify(li)\n",
    "li"
   ]
  },
  {
   "cell_type": "code",
   "execution_count": 10,
   "metadata": {},
   "outputs": [
    {
     "data": {
      "text/plain": [
       "[1, 3, 2, 3, 6, 10, 2, 4]"
      ]
     },
     "execution_count": 10,
     "metadata": {},
     "output_type": "execute_result"
    }
   ],
   "source": [
    "heapq.heappush(li,3)\n",
    "li"
   ]
  },
  {
   "cell_type": "code",
   "execution_count": 12,
   "metadata": {},
   "outputs": [
    {
     "data": {
      "text/plain": [
       "1"
      ]
     },
     "execution_count": 12,
     "metadata": {},
     "output_type": "execute_result"
    }
   ],
   "source": [
    "heapq.heappop(li)"
   ]
  },
  {
   "cell_type": "markdown",
   "metadata": {},
   "source": [
    "## K Smallest Element"
   ]
  },
  {
   "cell_type": "code",
   "execution_count": 20,
   "metadata": {},
   "outputs": [
    {
     "name": "stdout",
     "output_type": "stream",
     "text": [
      "10 6 7 2 3 8 9 11 1\n",
      "4\n",
      "7 6 1 2 3 "
     ]
    }
   ],
   "source": [
    "import heapq\n",
    "\n",
    "def kSmallest(arr,k):\n",
    "    heap=arr[:k]\n",
    "    heapq._heapify_max(heap)\n",
    "    n=len(arr)\n",
    "        \n",
    "\n",
    "    for i in range(k,n):\n",
    "        if heap[0]>arr[i]:\n",
    "            heapq._heapreplace_max(heap,arr[i])\n",
    "    return heap\n",
    "        \n",
    "    \n",
    "    \n",
    "\n",
    "arr=[int(ele) for ele in input().split()]\n",
    "k=int(input())\n",
    "arr=kSmallest(arr,k+1)\n",
    "for i in arr:\n",
    "    print(i,end=\" \")"
   ]
  },
  {
   "cell_type": "code",
   "execution_count": null,
   "metadata": {},
   "outputs": [],
   "source": []
  }
 ],
 "metadata": {
  "kernelspec": {
   "display_name": "Python 3",
   "language": "python",
   "name": "python3"
  },
  "language_info": {
   "codemirror_mode": {
    "name": "ipython",
    "version": 3
   },
   "file_extension": ".py",
   "mimetype": "text/x-python",
   "name": "python",
   "nbconvert_exporter": "python",
   "pygments_lexer": "ipython3",
   "version": "3.7.4"
  }
 },
 "nbformat": 4,
 "nbformat_minor": 2
}

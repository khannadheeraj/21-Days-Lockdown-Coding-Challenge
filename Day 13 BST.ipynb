{
 "cells": [
  {
   "cell_type": "code",
   "execution_count": 1,
   "metadata": {},
   "outputs": [],
   "source": [
    "class BinaryTreeNode:\n",
    "    def __init__(self,data):\n",
    "        self.data=data\n",
    "        self.left=None\n",
    "        self.right=None\n",
    "        \n",
    "    "
   ]
  },
  {
   "cell_type": "code",
   "execution_count": 10,
   "metadata": {},
   "outputs": [],
   "source": [
    "class BST:\n",
    "    \n",
    "    def __init__(self):\n",
    "        self.root=None\n",
    "        self.numNodes=0\n",
    "        \n",
    "        \n",
    "        \n",
    "    def printTreeHelper(self,root):\n",
    "        if root is None:\n",
    "            return\n",
    "        print(root.data,end=\":\")\n",
    "        if root.left:\n",
    "            print(\"L\",root.left.data,end=\",\")\n",
    "        if root.right:\n",
    "            print(\"R\",root.right.data,end=\"\")\n",
    "        print()\n",
    "        \n",
    "        self.printTreeHelper(root.left)\n",
    "        self.printTreeHelper(root.right)\n",
    "        \n",
    "        \n",
    "    def printTree(self):\n",
    "        self.printTreeHelper(self.root)\n",
    "        \n",
    "        \n",
    "    def isPresentHelper(self,root,data):\n",
    "        if root is None:\n",
    "            return False\n",
    "        if root.data==data:\n",
    "            return True\n",
    "        if root.data>data:\n",
    "            return self.isPresentHelper(root.left,data)\n",
    "        else:\n",
    "            return self.isPresentHelper(root.right,data)\n",
    "        \n",
    "    \n",
    "    def isPresent(self,data):\n",
    "        return self.isPresentHelper(self.root,data)\n",
    "    \n",
    "    \n",
    "    def insertHelper(self,root,data):\n",
    "        if root is None:\n",
    "            node=BinaryTreeNode(data)\n",
    "            return node\n",
    "        if root.data>data:\n",
    "            root.left=self.insertHelper(root.left,data)\n",
    "            return root\n",
    "        else:\n",
    "            root.right=self.insertHelper(root.right,data)\n",
    "            return root\n",
    "            \n",
    "        \n",
    "    \n",
    "    def insert(self,data):\n",
    "        self.numNodes +=1\n",
    "        self.root=self.insertHelper(self.root,data)\n",
    "        \n",
    "        \n",
    "        \n",
    "    def min(root):\n",
    "        if root is None:\n",
    "            return 100000\n",
    "        if root.left is None:\n",
    "            return root.data\n",
    "        return self.min(root.data)\n",
    "        \n",
    "    def deleteDataHelper(self,root,data):\n",
    "        if root is None:\n",
    "            return False,root\n",
    "        \n",
    "        if root.data<data:\n",
    "            deleted,newRightNode=self.deleteDataHelper(root.right,data)\n",
    "            root.right=newRightNode\n",
    "            return deleted,root\n",
    "        if root.data>data:\n",
    "            deleted,newLeftNode=self.deleteDataHelper(root.left,data)\n",
    "            root.left=newLeftNode\n",
    "            return deleted,root\n",
    "        if root.left is None and root.right is None:\n",
    "            return True,None\n",
    "        if root.left is None:\n",
    "            return True,root.right\n",
    "        if root.right is None:\n",
    "            return True,root.left\n",
    "        \n",
    "        ## root has two children\n",
    "        replacement=self.min(root.right)\n",
    "        root.data=replacement\n",
    "        deleted,newRightNode=self.deleteDataHelper(root.right,replacement)\n",
    "        root.right=newRightNodes\n",
    "        return True,root\n",
    "    \n",
    "        \n",
    "        \n",
    "            \n",
    "        \n",
    "    \n",
    "    def deleteData(self,data):\n",
    "        deleted,newRoot=self.deleteDataHelper(self.root,data)\n",
    "        if deleted:\n",
    "            self.numNodes -=1\n",
    "        self.root=newRoot\n",
    "        return deleted\n",
    "    \n",
    "    def count(self):\n",
    "        return self.numNodes\n",
    "    \n",
    "    "
   ]
  },
  {
   "cell_type": "code",
   "execution_count": 11,
   "metadata": {},
   "outputs": [
    {
     "name": "stdout",
     "output_type": "stream",
     "text": [
      "10:L 9,R 20\n",
      "9:L 8,\n",
      "8:\n",
      "20:\n"
     ]
    }
   ],
   "source": [
    "b=BST()\n",
    "b.insert(10)\n",
    "b.insert(20)\n",
    "b.insert(9)\n",
    "b.insert(8)\n",
    "b.printTree()"
   ]
  },
  {
   "cell_type": "code",
   "execution_count": 12,
   "metadata": {},
   "outputs": [
    {
     "data": {
      "text/plain": [
       "4"
      ]
     },
     "execution_count": 12,
     "metadata": {},
     "output_type": "execute_result"
    }
   ],
   "source": [
    "b.count()"
   ]
  },
  {
   "cell_type": "code",
   "execution_count": null,
   "metadata": {},
   "outputs": [],
   "source": []
  }
 ],
 "metadata": {
  "kernelspec": {
   "display_name": "Python 3",
   "language": "python",
   "name": "python3"
  },
  "language_info": {
   "codemirror_mode": {
    "name": "ipython",
    "version": 3
   },
   "file_extension": ".py",
   "mimetype": "text/x-python",
   "name": "python",
   "nbconvert_exporter": "python",
   "pygments_lexer": "ipython3",
   "version": "3.7.4"
  }
 },
 "nbformat": 4,
 "nbformat_minor": 2
}

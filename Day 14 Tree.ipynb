{
 "cells": [
  {
   "cell_type": "markdown",
   "metadata": {},
   "source": [
    "## Q 1) Lowest Common Ancestor of a Binary Tree"
   ]
  },
  {
   "cell_type": "code",
   "execution_count": 2,
   "metadata": {},
   "outputs": [],
   "source": [
    "# Given a binary tree, find the lowest common ancestor (LCA) of two given nodes in the tree.\n",
    "\n",
    "# According to the definition of LCA on Wikipedia: “The lowest common ancestor is defined between two nodes p and q as the lowest node in T that has both p and q as descendants (where we allow a node to be a descendant of itself).”\n",
    "\n",
    "# Given the following binary tree:  root = [3,5,1,6,2,0,8,null,null,7,4]\n",
    "\n",
    "\n",
    " \n",
    "\n",
    "# Example 1:\n",
    "\n",
    "# Input: root = [3,5,1,6,2,0,8,null,null,7,4], p = 5, q = 1\n",
    "# Output: 3\n",
    "# Explanation: The LCA of nodes 5 and 1 is 3."
   ]
  },
  {
   "cell_type": "code",
   "execution_count": 1,
   "metadata": {},
   "outputs": [],
   "source": [
    "# Definition for a binary tree node.\n",
    "# class TreeNode(object):\n",
    "#     def __init__(self, x):\n",
    "#         self.val = x\n",
    "#         self.left = None\n",
    "#         self.right = None\n",
    "\n",
    "class Solution(object):\n",
    "    def lowestCommonAncestor(self, root, p, q):\n",
    "        if root==p or root==q:\n",
    "            return root\n",
    "        left=right=None\n",
    "        if root.left:\n",
    "            left=self.lowestCommonAncestor(root.left,p,q)\n",
    "        if root.right:\n",
    "            right=self.lowestCommonAncestor(root.right,p,q)\n",
    "            \n",
    "        if left and right:\n",
    "            return root\n",
    "        else:\n",
    "            return left or right\n",
    "        \n",
    "        \n",
    "        \n",
    "            \n",
    "        "
   ]
  },
  {
   "cell_type": "markdown",
   "metadata": {},
   "source": [
    "## Q 2) Lowest Common Ancestor of a Binary Search Tree"
   ]
  },
  {
   "cell_type": "code",
   "execution_count": 3,
   "metadata": {},
   "outputs": [],
   "source": [
    "# Given a binary search tree (BST), find the lowest common ancestor (LCA) of two given nodes in the BST.\n",
    "\n",
    "# According to the definition of LCA on Wikipedia: “The lowest common ancestor is defined between two nodes p and q as the lowest node in T that has both p and q as descendants (where we allow a node to be a descendant of itself).”\n",
    "\n",
    "# Given binary search tree:  root = [6,2,8,0,4,7,9,null,null,3,5]\n",
    "\n",
    "\n",
    " \n",
    "\n",
    "# Example 1:\n",
    "\n",
    "# Input: root = [6,2,8,0,4,7,9,null,null,3,5], p = 2, q = 8\n",
    "# Output: 6\n",
    "# Explanation: The LCA of nodes 2 and 8 is 6."
   ]
  },
  {
   "cell_type": "code",
   "execution_count": 4,
   "metadata": {},
   "outputs": [],
   "source": [
    "# Definition for a binary tree node.\n",
    "# class TreeNode(object):\n",
    "#     def __init__(self, x):\n",
    "#         self.val = x\n",
    "#         self.left = None\n",
    "#         self.right = None\n",
    "\n",
    "class Solution(object):\n",
    "    def lowestCommonAncestor(self, root, p, q):\n",
    "        head1=p.val\n",
    "        head2=q.val\n",
    "        node=root\n",
    "        \n",
    "        while node:\n",
    "            parent_val=node.val\n",
    "            if head1>parent_val and head2>parent_val:\n",
    "                node=node.right\n",
    "                \n",
    "            elif head1<parent_val and head2<parent_val:\n",
    "                node=node.left\n",
    "                \n",
    "            else:\n",
    "                return node\n",
    "        \n",
    "        \n",
    "        "
   ]
  },
  {
   "cell_type": "markdown",
   "metadata": {},
   "source": [
    "## Q 3)Balanced Binary Tree"
   ]
  },
  {
   "cell_type": "code",
   "execution_count": 6,
   "metadata": {},
   "outputs": [],
   "source": [
    "# Definition for a  binary tree node\n",
    "# class TreeNode:\n",
    "#\tdef __init__(self, x):\n",
    "#\t\tself.val = x\n",
    "#\t\tself.left = None\n",
    "#\t\tself.right = None\n",
    "\n",
    "class Solution:\n",
    "\t# @param A : root node of tree\n",
    "\t# @return an integer\n",
    "\tdef isBalanced(self, A):\n",
    "\t    \n",
    "\t    def checkTree(root):\n",
    "\t        if root is None:\n",
    "\t            return 0,True\n",
    "\t            \n",
    "\t        lh,leftBalance=checkTree(root.left)\n",
    "\t        rh,rightBalance=checkTree(root.right)\n",
    "\t        height=1+max(lh,rh)\n",
    "\t        \n",
    "\t        if abs(lh-rh)>1:\n",
    "\t            return height,False\n",
    "\t        if leftBalance and rightBalance:\n",
    "\t            return height,True\n",
    "\t        else:\n",
    "\t            return height,False\n",
    "\t            \n",
    "\t    a,b=checkTree(A)\n",
    "\t    if b:\n",
    "\t        return 1\n",
    "\t    else:\n",
    "\t        return 0\n",
    "\t        \n"
   ]
  },
  {
   "cell_type": "markdown",
   "metadata": {},
   "source": [
    "## Q 4) kth Smallest Element"
   ]
  },
  {
   "cell_type": "code",
   "execution_count": 7,
   "metadata": {},
   "outputs": [],
   "source": [
    "# Definition for a binary tree node.\n",
    "# class TreeNode(object):\n",
    "#     def __init__(self, x):\n",
    "#         self.val = x\n",
    "#         self.left = None\n",
    "#         self.right = None\n",
    "\n",
    "class Solution(object):\n",
    "    def kthSmallest(self, root, k):\n",
    "        self.k=k\n",
    "        self.res=None\n",
    "        self.helper(root)\n",
    "        return self.res\n",
    "        \n",
    "    def helper(self,node):\n",
    "        if not node:\n",
    "            return\n",
    "        self.helper(node.left)\n",
    "        self.k -=1\n",
    "        if self.k==0:\n",
    "            self.res=node.val\n",
    "            return\n",
    "        self.helper(node.right)\n",
    "       \n",
    "    \n",
    "        \n",
    "        \n",
    "    \n",
    "        \n",
    "        "
   ]
  },
  {
   "cell_type": "code",
   "execution_count": null,
   "metadata": {},
   "outputs": [],
   "source": []
  }
 ],
 "metadata": {
  "kernelspec": {
   "display_name": "Python 3",
   "language": "python",
   "name": "python3"
  },
  "language_info": {
   "codemirror_mode": {
    "name": "ipython",
    "version": 3
   },
   "file_extension": ".py",
   "mimetype": "text/x-python",
   "name": "python",
   "nbconvert_exporter": "python",
   "pygments_lexer": "ipython3",
   "version": "3.7.4"
  }
 },
 "nbformat": 4,
 "nbformat_minor": 2
}

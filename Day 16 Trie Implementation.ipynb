{
 "cells": [
  {
   "cell_type": "code",
   "execution_count": 31,
   "metadata": {},
   "outputs": [],
   "source": [
    "class Trie:\n",
    "    def __init__(self):\n",
    "        self.root={\"*\":\"*\"}\n",
    "        \n",
    "    def add_word(self,words):\n",
    "        curr_node=self.root\n",
    "        for letter in words:\n",
    "            if letter not in curr_node:\n",
    "                curr_node[letter]={}\n",
    "            curr_node=curr_node[letter]\n",
    "        curr_node[\"*\"]=\"*\"\n",
    "        \n",
    "    def does_exist(self,words):\n",
    "        curr_node=self.root\n",
    "        for letter in words:\n",
    "            if letter not in curr_node:\n",
    "                return False\n",
    "            curr_node=curr_node[letter]\n",
    "        return \"*\" in curr_node\n",
    "t=Trie()\n",
    "words=[\"wait\",\"waiter\",\"wave\",\"good morning\"]\n",
    "mix=words+[\"ddf\",\"Waiter\"]\n",
    "for word in words:\n",
    "    t.add_word(word)\n",
    "for word in mix:\n",
    "    print(t.does_exist(word)) \n",
    "    "
   ]
  },
  {
   "cell_type": "code",
   "execution_count": 33,
   "metadata": {},
   "outputs": [
    {
     "name": "stdout",
     "output_type": "stream",
     "text": [
      "True\n",
      "True\n",
      "True\n",
      "True\n",
      "False\n",
      "False\n"
     ]
    }
   ],
   "source": []
  },
  {
   "cell_type": "code",
   "execution_count": 59,
   "metadata": {},
   "outputs": [
    {
     "name": "stdout",
     "output_type": "stream",
     "text": [
      "True\n",
      "True\n",
      "True\n",
      "True\n",
      "False\n",
      "False\n"
     ]
    }
   ],
   "source": [
    "class TrieNode:\n",
    "    def __init__(self,letter):\n",
    "        self.letter=letter\n",
    "        self.children={}\n",
    "        self.is_end=False\n",
    "    \n",
    "class Trie:\n",
    "    def __init__(self):\n",
    "        self.root=TrieNode(\"*\")\n",
    "        \n",
    "    def add_word(self,words):\n",
    "        curr_node=self.root\n",
    "        for letter in words:\n",
    "            if letter not in curr_node.children:\n",
    "                \n",
    "                curr_node.children[letter]=TrieNode(letter)\n",
    "            curr_node=curr_node.children[letter]\n",
    "        curr_node.is_end=True\n",
    "       \n",
    "\n",
    "    \n",
    "    def does_exist(self,words):\n",
    "        if words==\"\":\n",
    "            return True\n",
    "        curr_node=self.root\n",
    "        for letter in words:\n",
    "            if letter not in curr_node.children:\n",
    "                return False\n",
    "            curr_node=curr_node.children[letter]\n",
    "        return curr_node.is_end is True\n",
    "            \n",
    "t=Trie()\n",
    "words=[\"wait\",\"waiter\",\"wave\",\"good morning\"]\n",
    "mix=words+[\"ddf\",\"Waiter\"]\n",
    "for word in words:\n",
    "    t.add_word(word)\n",
    "for word in mix:\n",
    "    print(t.does_exist(word)) "
   ]
  },
  {
   "cell_type": "markdown",
   "metadata": {},
   "source": [
    "## Q 3) Shortest Unique Prefix"
   ]
  },
  {
   "cell_type": "code",
   "execution_count": 62,
   "metadata": {},
   "outputs": [],
   "source": [
    "from collections import defaultdict\n",
    "class Solution:\n",
    "\t# @param A : list of strings\n",
    "\t# @return a list of strings\n",
    "\tdef prefix(self, A):\n",
    "\t    dic=defaultdict(int)\n",
    "\t    for w in A:\n",
    "\t        for i in range(len(w)):\n",
    "\t            dic[w[:i]] +=1\n",
    "\t    \n",
    "\t    result=[]\n",
    "\t    \n",
    "\t    for w in A:\n",
    "\t        temp=w\n",
    "\t        for i in range(len(w)):\n",
    "\t            check=w[:i]\n",
    "\t            if dic[check]==1:\n",
    "\t                temp=check\n",
    "\t                break\n",
    "\t        result.append(temp)\n",
    "\t    return result\n",
    "\t       \n",
    "\t        \n",
    "\n",
    "            "
   ]
  },
  {
   "cell_type": "code",
   "execution_count": 19,
   "metadata": {},
   "outputs": [
    {
     "data": {
      "text/plain": [
       "{'*': '*', 'w': {}}"
      ]
     },
     "execution_count": 19,
     "metadata": {},
     "output_type": "execute_result"
    }
   ],
   "source": [
    "d"
   ]
  },
  {
   "cell_type": "code",
   "execution_count": 14,
   "metadata": {},
   "outputs": [
    {
     "data": {
      "text/plain": [
       "{1: 2, 2: {}}"
      ]
     },
     "execution_count": 14,
     "metadata": {},
     "output_type": "execute_result"
    }
   ],
   "source": [
    "d"
   ]
  },
  {
   "cell_type": "code",
   "execution_count": 21,
   "metadata": {},
   "outputs": [],
   "source": [
    "c[\"a\"]={}\n"
   ]
  },
  {
   "cell_type": "code",
   "execution_count": 22,
   "metadata": {},
   "outputs": [
    {
     "data": {
      "text/plain": [
       "{'a': {}}"
      ]
     },
     "execution_count": 22,
     "metadata": {},
     "output_type": "execute_result"
    }
   ],
   "source": [
    "c"
   ]
  },
  {
   "cell_type": "code",
   "execution_count": 48,
   "metadata": {},
   "outputs": [],
   "source": [
    "import json\n",
    "#f = open('data.json',) \n",
    "f=open(r\"C:\\Users\\Night-Watch\\Desktop\\words_auto.json\")"
   ]
  },
  {
   "cell_type": "code",
   "execution_count": 60,
   "metadata": {},
   "outputs": [],
   "source": [
    "import json\n",
    "#f = open('data.json',) \n",
    "f=open(r\"C:\\Users\\Night-Watch\\Desktop\\words_auto.json\")\n",
    "data=json.load(f)\n",
    "for i in data.keys():\n",
    "    t.add_word(i)"
   ]
  },
  {
   "cell_type": "code",
   "execution_count": 61,
   "metadata": {},
   "outputs": [
    {
     "data": {
      "text/plain": [
       "<__main__.Trie at 0x20dfbfd3148>"
      ]
     },
     "execution_count": 61,
     "metadata": {},
     "output_type": "execute_result"
    }
   ],
   "source": []
  },
  {
   "cell_type": "code",
   "execution_count": 72,
   "metadata": {},
   "outputs": [
    {
     "name": "stdout",
     "output_type": "stream",
     "text": [
      "jarweehd\n",
      "iol\n"
     ]
    }
   ],
   "source": [
    "m=[\"dheewraj\",\"loi\"]\n",
    "result=[]\n",
    "for i in m:\n",
    "    print(i[::-1])\n",
    "    "
   ]
  },
  {
   "cell_type": "code",
   "execution_count": 75,
   "metadata": {},
   "outputs": [
    {
     "name": "stdout",
     "output_type": "stream",
     "text": [
      "aba 2\n",
      "abb 0\n"
     ]
    },
    {
     "data": {
      "text/plain": [
       "[2, 0]"
      ]
     },
     "execution_count": 75,
     "metadata": {},
     "output_type": "execute_result"
    }
   ],
   "source": [
    "class Solution:\n",
    "    # @param A : list of strings\n",
    "    # @param B : list of strings\n",
    "    # @return a list of integers\n",
    "    def solve(self, A, B):\n",
    "        \n",
    "        dic=defaultdict(int)\n",
    "        dic_suffix=defaultdict(int)\n",
    "        result=[]\n",
    "        for word in A:\n",
    "            for w in range(len(word)):\n",
    "                dic[word[:w]] +=1\n",
    "        \n",
    "        suffix=[]\n",
    "        for i in A:\n",
    "            suffix.append(i[::-1])\n",
    "        for word in suffix:\n",
    "            for w in range(len(word)):\n",
    "                dic_suffix[word[:w]] +=1\n",
    "        \n",
    "        for i in B:\n",
    "            if dic[i]==dic_suffix[i]:\n",
    "                print(i,dic[i])\n",
    "                result.append(dic[i])\n",
    "        return result\n",
    "        \n",
    "        \n",
    "A = [\"ababa\", \"aabbvaab\", \"aecdsaaec\", \"abaaxbqaba\"]\n",
    "B = [\"aba\", \"aec\", \"abb\", \"aab\"]\n",
    "t=Solution()\n",
    "t.solve(A,B)"
   ]
  },
  {
   "cell_type": "code",
   "execution_count": 87,
   "metadata": {},
   "outputs": [
    {
     "data": {
      "text/plain": [
       "7"
      ]
     },
     "execution_count": 87,
     "metadata": {},
     "output_type": "execute_result"
    }
   ],
   "source": [
    "2^5"
   ]
  },
  {
   "cell_type": "code",
   "execution_count": null,
   "metadata": {},
   "outputs": [],
   "source": [
    "nums=[5,7]\n"
   ]
  }
 ],
 "metadata": {
  "kernelspec": {
   "display_name": "Python 3",
   "language": "python",
   "name": "python3"
  },
  "language_info": {
   "codemirror_mode": {
    "name": "ipython",
    "version": 3
   },
   "file_extension": ".py",
   "mimetype": "text/x-python",
   "name": "python",
   "nbconvert_exporter": "python",
   "pygments_lexer": "ipython3",
   "version": "3.7.4"
  }
 },
 "nbformat": 4,
 "nbformat_minor": 2
}

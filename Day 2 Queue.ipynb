{
 "cells": [
  {
   "cell_type": "markdown",
   "metadata": {},
   "source": [
    "## Q 1) Implement Queue USing Stack"
   ]
  },
  {
   "cell_type": "code",
   "execution_count": 7,
   "metadata": {},
   "outputs": [
    {
     "name": "stdout",
     "output_type": "stream",
     "text": [
      "1\n",
      "2\n",
      "3\n",
      "4\n",
      "5\n",
      "6\n",
      "7\n",
      "8\n",
      "Underflow\n"
     ]
    }
   ],
   "source": [
    "class Queue:\n",
    "    def __init__(self):\n",
    "        self.stack1=[]\n",
    "        self.stack2=[]\n",
    "    \n",
    "    def Enqueue(self,x):\n",
    "        while len(self.stack1) !=0:\n",
    "            self.stack2.append(self.stack1[-1])\n",
    "            self.stack1.pop()\n",
    "        self.stack1.append(x)\n",
    "        \n",
    "        while len(self.stack2) !=0:\n",
    "            self.stack1.append(self.stack2[-1])\n",
    "            self.stack2.pop()\n",
    "    \n",
    "    def Dequeue(self):\n",
    "        if len(self.stack1) ==0:\n",
    "            return \"Underflow\"\n",
    "        \n",
    "        x=self.stack1[-1]\n",
    "        self.stack1.pop()\n",
    "        return x\n",
    "Q=Queue()\n",
    "Q.Enqueue(1)\n",
    "Q.Enqueue(2)\n",
    "Q.Enqueue(3)\n",
    "Q.Enqueue(4)\n",
    "Q.Enqueue(5)\n",
    "Q.Enqueue(6)\n",
    "Q.Enqueue(7)\n",
    "Q.Enqueue(8)\n",
    "        \n",
    "print(Q.Dequeue())\n",
    "print(Q.Dequeue())\n",
    "print(Q.Dequeue())\n",
    "print(Q.Dequeue())\n",
    "print(Q.Dequeue())\n",
    "print(Q.Dequeue())\n",
    "print(Q.Dequeue())\n",
    "print(Q.Dequeue())\n",
    "print(Q.Dequeue())"
   ]
  },
  {
   "cell_type": "markdown",
   "metadata": {},
   "source": [
    "## Q 2) Reverse Queue\n",
    "\n",
    "Given a queue of integers, reverse it without help of any explicit stack or queue. You need to change in the given queue itself.\n",
    "\n",
    "Sample Input :\n",
    "4 1 2 3 4     (1 is at front)\n",
    "Sample Output :\n",
    "4 3 2 1    (4 is at front)"
   ]
  },
  {
   "cell_type": "code",
   "execution_count": 10,
   "metadata": {},
   "outputs": [
    {
     "name": "stdout",
     "output_type": "stream",
     "text": [
      "4 1 2 3 4\n",
      "4 3 2 1 "
     ]
    }
   ],
   "source": [
    "import queue\n",
    "def reverseQueue(q1):\n",
    "    if (q1.qsize()==0):\n",
    "        return \n",
    "    temp=q1.get()\n",
    "  \n",
    "   \n",
    "    reverseQueue(q1)\n",
    "    q1.put(temp)\n",
    "\n",
    "\n",
    "from sys import setrecursionlimit\n",
    "setrecursionlimit(11000)\n",
    "li = [int(ele) for ele in (input().split()[1:])]\n",
    "q1 = queue.Queue()\n",
    "for ele in li:\n",
    "    q1.put(ele)\n",
    "\n",
    "\n",
    "reverseQueue(q1)\n",
    "while(q1.empty() is False):\n",
    "    print(q1.get(),end= ' ')"
   ]
  },
  {
   "cell_type": "markdown",
   "metadata": {},
   "source": [
    "## Q 3) Reversing the first B elements of queue\n",
    "Given an array of integers A and an integer B. we need to reverse the order of the first B elements of the array, leaving the other elements in the same relative order. Note: You are required to first insert elements into an auxiliary queue then perform Reversal of first B elements"
   ]
  },
  {
   "cell_type": "code",
   "execution_count": 11,
   "metadata": {},
   "outputs": [],
   "source": [
    "# Input 1:\n",
    "#     A = [1, 2, 3, 4, 5]\n",
    "#     B = 3\n",
    "# Output 1:\n",
    "#     [3, 2, 1, 4, 5]\n",
    "\n",
    "# Input 2:\n",
    "#     A = [5, 17, 100, 11]\n",
    "#     B = 2\n",
    "# Output 2:\n",
    "#     [17, 5, 100, 11]"
   ]
  },
  {
   "cell_type": "code",
   "execution_count": 25,
   "metadata": {},
   "outputs": [
    {
     "data": {
      "text/plain": [
       "[17, 5, 100, 11]"
      ]
     },
     "execution_count": 25,
     "metadata": {},
     "output_type": "execute_result"
    }
   ],
   "source": [
    "class Solution:\n",
    "    # @param A : list of integers\n",
    "    # @param B : integer\n",
    "    # @return a list of integers\n",
    "    def solve(self, A, B):\n",
    "        if len(A)==0 or B>len(A) or B<0:\n",
    "            return \n",
    "        stack=[]\n",
    "        for i in range(B):\n",
    "            stack.append(A[i])\n",
    "            \n",
    "        for i in range(B):\n",
    "            A.pop(0)\n",
    "        while len(stack) !=0:\n",
    "            A.append(stack[-1])\n",
    "            stack.pop()\n",
    "       \n",
    "        for i in range(len(A)-B):\n",
    "            A.append(A[0])\n",
    "            A.pop(0)\n",
    "        return A\n",
    "t=Solution()\n",
    "A=[5, 17, 100, 11]\n",
    "B=2\n",
    "t.solve(A,B)\n",
    "            \n",
    "        \n",
    "        \n"
   ]
  },
  {
   "cell_type": "markdown",
   "metadata": {},
   "source": [
    "## Q 4) N integers containing only 1,2 and 3"
   ]
  },
  {
   "cell_type": "code",
   "execution_count": 27,
   "metadata": {},
   "outputs": [],
   "source": [
    "# Given an integer A. Find and Return first positive A integers in ascending order containing only digits 1,2 and 3.\n",
    "# Input 1:\n",
    "#     A = 3\n",
    "# Output 1:\n",
    "#     [1, 2, 3]\n",
    "\n",
    "# Input 2:\n",
    "#     A = 7\n",
    "# Output 2:\n",
    "#     [1, 2, 3, 11, 12, 13, 21]\n",
    "\n",
    "class Solution:\n",
    "    # @param A : integer\n",
    "    # @return a list of integers\n",
    "    def solve(self, A):\n",
    "        result=[1,2,3]\n",
    "        if A==1:\n",
    "            return [1]\n",
    "        if A==2:\n",
    "            return [1,2]\n",
    "        if A==3:\n",
    "            return [1,2,3]\n",
    "        \n",
    "        start=1\n",
    "        end=3\n",
    "        i=0\n",
    "        while end<A:\n",
    "            result.append(result[i]*10+start)\n",
    "            start +=1\n",
    "            end +=1\n",
    "            if start==4:\n",
    "                start=1\n",
    "                i +=1\n",
    "        return result\n"
   ]
  },
  {
   "cell_type": "markdown",
   "metadata": {},
   "source": [
    "## Q 5) First non-repeating character in a stream of characters\n",
    "Given a string A denoting a stream of lowercase alphabets. You have to make new string B. B is formed such that we have to find first non-repeating character each time a character is inserted to the stream and append it at the end to B. if no non-repeating character is found then append '#' at the end of B."
   ]
  },
  {
   "cell_type": "code",
   "execution_count": 28,
   "metadata": {},
   "outputs": [],
   "source": [
    "# Input 1:\n",
    "#     A = \"abadbc\"\n",
    "# Output 1:\n",
    "#     \"aabbdd\"\n",
    "\n",
    "#     Explanation:\n",
    "#     \"a\"      -   first non repeating character 'a'\n",
    "#     \"ab\"     -   first non repeating character 'a'\n",
    "#     \"aba\"    -   first non repeating character 'b'\n",
    "#     \"abad\"   -   first non repeating character 'b'\n",
    "#     \"abadb\"  -   first non repeating character 'd'\n",
    "#     \"abadbc\" -   first non repeating character 'd'\n",
    "\n",
    "# Input 2:\n",
    "#     A = \"abcabc\"\n",
    "# Output 2:\n",
    "#     \"aaabc#\"\n",
    "\n",
    "#     Explanation\n",
    "#     \"a\"      -   first non repeating character 'a'\n",
    "#     \"ab\"     -   first non repeating character 'a'\n",
    "#     \"abc\"    -   first non repeating character 'a'\n",
    "#     \"abca\"   -   first non repeating character 'b'\n",
    "#     \"abcab\"  -   first non repeating character 'c'\n",
    "#     \"abcabc\" -   no non repeating character so '#'"
   ]
  },
  {
   "cell_type": "code",
   "execution_count": 34,
   "metadata": {},
   "outputs": [
    {
     "data": {
      "text/plain": [
       "'aabbdd'"
      ]
     },
     "execution_count": 34,
     "metadata": {},
     "output_type": "execute_result"
    }
   ],
   "source": [
    "\n",
    "from queue import Queue  \n",
    "class Solution:\n",
    "    # @param A : string\n",
    "    # @return a strings\n",
    "    def solve(self, A):\n",
    "        q=Queue()\n",
    "        output=\"\"\n",
    "        count=[0]*26\n",
    "        for i in A:\n",
    "            q.put(str(i))\n",
    "            count[ord(i)-ord('a')] +=1\n",
    "            \n",
    "            while not q.empty():\n",
    "                if count[ord(q.queue[0])-ord('a')]>1:\n",
    "                    q.get()\n",
    "                else:\n",
    "                    output +=q.queue[0]\n",
    "                    break\n",
    "            if q.empty():\n",
    "                output +=\"#\"\n",
    "        return output\n",
    "t=Solution()\n",
    "A=\"abadbc\"\n",
    "t.solve(A)\n"
   ]
  },
  {
   "cell_type": "markdown",
   "metadata": {},
   "source": [
    "## Q 6) First negative integer in window size B\n",
    "Given an array of integers A of size N and an integer B. Find the first negative integer for each and every window(contiguous subarray) of size B. If a window does not contain a negative integer, then return 0 for that window. \n"
   ]
  },
  {
   "cell_type": "code",
   "execution_count": 35,
   "metadata": {},
   "outputs": [
    {
     "data": {
      "text/plain": [
       "[-1, 0, -4, -4]"
      ]
     },
     "execution_count": 35,
     "metadata": {},
     "output_type": "execute_result"
    }
   ],
   "source": [
    "#  Input 1:\n",
    "#     A = [-1, 2, 3, -4, 5]\n",
    "#     B = 2\n",
    "# Input 2:\n",
    "#     A = [-8, 2, 3, -6, 10]\n",
    "#     B = 2\n",
    " \n",
    "# Output 1:\n",
    "#     [-1, 0, -4, -4] \n",
    "# Output 2:\n",
    "#     [-8, 0, -6, -6]\n",
    "\n",
    "class Solution:\n",
    "    # @param A : list of integers\n",
    "    # @param B : integer\n",
    "    # @return a list of integers\n",
    "    def solve(self, A, B):\n",
    "        queue=[]\n",
    "        result=[]\n",
    "        for i in range(B):\n",
    "            if A[i]<0:\n",
    "                queue.append(i)\n",
    "        for i in range(B,len(A)):\n",
    "            if not queue:\n",
    "                result.append(0)\n",
    "            else:\n",
    "                result.append(A[queue[0]])\n",
    "            while queue and queue[0]<=(i-B):\n",
    "                queue.pop(0)\n",
    "            if A[i]<0:\n",
    "                queue.append(i)\n",
    "            \n",
    "        if not queue:\n",
    "            result.append(0)\n",
    "        else:\n",
    "            result.append(A[queue[0]])\n",
    "        \n",
    "        return result\n",
    "t=Solution()\n",
    "A = [-1, 2, 3, -4, 5]\n",
    "B=2\n",
    "t.solve(A,B)\n",
    "                \n",
    "            \n",
    "        \n"
   ]
  },
  {
   "cell_type": "code",
   "execution_count": null,
   "metadata": {},
   "outputs": [],
   "source": []
  }
 ],
 "metadata": {
  "kernelspec": {
   "display_name": "Python 3",
   "language": "python",
   "name": "python3"
  },
  "language_info": {
   "codemirror_mode": {
    "name": "ipython",
    "version": 3
   },
   "file_extension": ".py",
   "mimetype": "text/x-python",
   "name": "python",
   "nbconvert_exporter": "python",
   "pygments_lexer": "ipython3",
   "version": "3.7.4"
  }
 },
 "nbformat": 4,
 "nbformat_minor": 2
}

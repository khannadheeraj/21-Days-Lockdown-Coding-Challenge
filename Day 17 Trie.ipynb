{
 "cells": [
  {
   "cell_type": "markdown",
   "metadata": {},
   "source": [
    "## Find The pair In array which Give Maximum XOR value"
   ]
  },
  {
   "cell_type": "code",
   "execution_count": 1,
   "metadata": {},
   "outputs": [],
   "source": [
    "class TrieNode:\n",
    "    def __init__(self):\n",
    "        self.one=None\n",
    "        self.zero=None\n",
    "        self.value=None\n",
    "def Maximum(arr):\n",
    "    root=TrieNode()\n",
    "    for num in arr:\n",
    "        curr=root\n",
    "        for i in range(31,-1,-1):\n",
    "            mask=1<<i\n",
    "            masked_num=mask&num\n",
    "            if masked_num is 0:\n",
    "                if not curr.zero:\n",
    "                    curr.zero=TrieNode()\n",
    "                curr=curr.zero\n",
    "            else:\n",
    "                if not curr.one:\n",
    "                    curr.one=TrieNode()\n",
    "                curr=curr.one\n",
    "        curr.value=num\n",
    "        \n",
    "    maximum_xor=0\n",
    "    for num in arr:\n",
    "        curr=root\n",
    "        for i in range(31,-1,-1):\n",
    "            mask=1<<i\n",
    "            masked_num=mask&num\n",
    "            if masked_num is 0:\n",
    "                if curr.one:\n",
    "                    curr=curr.one\n",
    "                else:\n",
    "                    curr=curr.zero\n",
    "            else:\n",
    "                if curr.zero:\n",
    "                    curr=curr.zero\n",
    "                else:\n",
    "                    curr=curr.one\n",
    "        temp_max=curr.value^num\n",
    "        maximum_xor=max(temp_max,maximum_xor)\n",
    "    return maximum_xor\n",
    "                    "
   ]
  },
  {
   "cell_type": "markdown",
   "metadata": {},
   "source": [
    "## Populating Next Right Pointers in Each Node"
   ]
  },
  {
   "cell_type": "code",
   "execution_count": 48,
   "metadata": {},
   "outputs": [],
   "source": [
    "# You are given a perfect binary tree where all leaves are on the same level, and every parent has two children. The binary tree has the following definition:\n",
    "\n",
    "# struct Node {\n",
    "#   int val;\n",
    "#   Node *left;\n",
    "#   Node *right;\n",
    "#   Node *next;\n",
    "# }\n",
    "# Populate each next pointer to point to its next right node. If there is no next right node, the next pointer should be set to NULL.\n",
    "\n",
    "# Initially, all next pointers are set to NULL."
   ]
  },
  {
   "cell_type": "code",
   "execution_count": 49,
   "metadata": {},
   "outputs": [],
   "source": [
    "\"\"\"\n",
    "# Definition for a Node.\n",
    "class Node(object):\n",
    "    def __init__(self, val=0, left=None, right=None, next=None):\n",
    "        self.val = val\n",
    "        self.left = left\n",
    "        self.right = right\n",
    "        self.next = next\n",
    "\"\"\"\n",
    "\n",
    "class Solution(object):\n",
    "    def connect(self, root):\n",
    "        if root and root.left and root.right:\n",
    "            root.left.next=root.right\n",
    "            if root.next:\n",
    "                root.right.next=root.next.left\n",
    "            self.connect(root.left)\n",
    "            self.connect(root.right)\n",
    "            \n",
    "     \n",
    "        "
   ]
  },
  {
   "cell_type": "code",
   "execution_count": 51,
   "metadata": {},
   "outputs": [
    {
     "data": {
      "text/plain": [
       "['we', 'p']"
      ]
     },
     "execution_count": 51,
     "metadata": {},
     "output_type": "execute_result"
    }
   ],
   "source": [
    "s=\"we_p\"\n",
    "s.split(\"_\")"
   ]
  },
  {
   "cell_type": "markdown",
   "metadata": {},
   "source": [
    "## Judge Reviews"
   ]
  },
  {
   "cell_type": "code",
   "execution_count": 69,
   "metadata": {},
   "outputs": [],
   "source": [
    "# You are given the task of ranking hotel reviews in this question. Lets say, you are given a bunch of user reviews where each review is a string. Assume that our Expedia bots have figured out a set of \"Good words\" which indicate that the user likes the hotel. The more the number of \"Good words\", the more the user likes the hotel. Given multiple such reviews and the list of good words, you need to rank the reviews with the most positive review first and the most negative review the last. In other words, the review with the most number of good words comes first and the one with least number of good words comes last in the ranking. Note: Sorting should be stable. If review i and review j have the same number of \"Good words\", then their original order would be preserved. Constraints:\n",
    "# 1.   1 <= No.of reviews <= 200\n",
    "# 2.   1 <= No. of words in a review <= 1000\n",
    "# 3.   1 <= Length of an individual review <= 10,000\n",
    "# 4.   1 <= Number of Good Words <= 10,000\n",
    "# 5.   1 <= Length of an individual Good Word <= 4\n",
    "# 6.   All the alphabets are lower case (a - z)\n",
    "# Input:\n",
    "# S : A string S containing \"Good Words\" separated by  \"_\" character. (See example below)\n",
    "# R : A vector of strings containing Hotel Reviews. Review strings are also separated by \"_\" character.\n",
    "# Output:\n",
    "# A vector V of integer which contain the original indexes of the reviews in the sorted order of reviews. \n",
    "\n",
    "# V[i] = k  means the review R[k] comes at i-th position in the sorted order. (See example below)\n",
    "# In simple words, V[i]=Original index of the review which comes at i-th position in the sorted order. (Indexing is 0 based)\n",
    "# Example:\n",
    "# Input: \n",
    "# S = \"pool_fridge_wifi\"\n",
    "# R = [\"water_in_pool\", \"pond_fridge_drink\", \"pool_wifi_speed\"]\n",
    "\n",
    "# Output:\n",
    "# ans = [2, 0, 1]\n",
    "# Here, sorted reviews are [\"pool_wifi_speed\", \"water_in_pool\", \"pond_fridge_drink\"]"
   ]
  },
  {
   "cell_type": "code",
   "execution_count": 67,
   "metadata": {},
   "outputs": [],
   "source": [
    "class TrieNode:\n",
    "    def __init__(self,letter):\n",
    "        self.letter=letter\n",
    "        self.children={}\n",
    "        self.is_end=False\n",
    "class Trie:\n",
    "    def __init__(self):\n",
    "        self.root=TrieNode(\"*\")\n",
    "\n",
    "    def add_word(self,word):\n",
    "        curr_node=self.root\n",
    "        for w in word:\n",
    "            if w not in curr_node.children:\n",
    "                curr_node.children[w]=TrieNode(w)\n",
    "            curr_node=curr_node.children[w]\n",
    "        curr_node.is_end=True\n",
    "    \n",
    "    def word_exist(self,word):\n",
    "        curr_node=self.root\n",
    "        for w in word:\n",
    "            if w not in curr_node.children:\n",
    "                return 0\n",
    "            curr_node=curr_node.children[w]\n",
    "        return 1\n",
    "    \n",
    "S = \"pool_fridge_wifi\"\n",
    "R = [\"water_in_pool\", \"pond_fridge_drink\", \"pool_wifi_speed\",\"abc_def\"]\n",
    "words=S.split(\"_\")\n",
    "\n",
    "t=Trie()\n",
    "for w in words:\n",
    "    t.add_word(w)\n",
    "result=[]\n",
    "for i,value in enumerate(R):\n",
    "    index=i\n",
    "    count=0\n",
    "    word=value.split(\"_\")\n",
    "    for w in word:\n",
    "        if t.word_exist(w):\n",
    "            count +=1\n",
    "    result.append([index,count])   "
   ]
  },
  {
   "cell_type": "code",
   "execution_count": 68,
   "metadata": {},
   "outputs": [
    {
     "data": {
      "text/plain": [
       "[[0, 1], [1, 1], [2, 2], [3, 0]]"
      ]
     },
     "execution_count": 68,
     "metadata": {},
     "output_type": "execute_result"
    }
   ],
   "source": [
    "result"
   ]
  },
  {
   "cell_type": "code",
   "execution_count": 63,
   "metadata": {},
   "outputs": [],
   "source": [
    "class TrieNode:\n",
    "    def __init__(self,letter):\n",
    "        self.letter=letter\n",
    "        self.children={}\n",
    "        self.is_end=False\n",
    "class Trie:\n",
    "    def __init__(self):\n",
    "        self.root=TrieNode(\"*\")\n",
    "    \n",
    "    def add_word(self,word):\n",
    "        curr_node=self.root\n",
    "        for w in word:\n",
    "            if w not in curr_node.children:\n",
    "                curr_node.children[w]=TrieNode(w)\n",
    "            curr_node=curr_node.children[w]\n",
    "        curr_node.is_end=True\n",
    "    \n",
    "    def search(self,word):\n",
    "        curr_node=self.root\n",
    "        count=0\n",
    "        prev=word[0]\n",
    "        \n",
    "        for w in word:\n",
    "            if w not in curr_node.children:\n",
    "                count +=1\n",
    "                t=curr_node.children\n",
    "                while not t.is_end:\n",
    "                    if w not in t.children:\n",
    "                        return False\n",
    "                return True\n",
    "                    \n",
    "            else:\n",
    "                curr_node=curr_node.children[w]\n",
    "                \n",
    "        return curr_node.is_end and count<=1\n",
    "                \n",
    "            \n",
    "        \n",
    "            \n",
    "#             if w not in curr_node.children:\n",
    "#                 count +=1\n",
    "#                 curr_node=curr_node.children\n",
    "#             else:\n",
    "#                 curr_node=curr_node.children[w]\n",
    "        return count<=1\n",
    "            \n",
    "        \n",
    "            \n",
    "\n",
    "\n",
    "t=Trie()\n",
    "S = \"pool_fridge_wifi\"\n",
    "#A = [\"data\", \"circle\", \"cricket\"]\n",
    "B = [\"circel\", \"crikket\", \"date\", \"circl\"]\n",
    "A=S.split(\"_\")\n",
    "for word in A:\n",
    "    t.add_word(word)\n"
   ]
  },
  {
   "cell_type": "code",
   "execution_count": null,
   "metadata": {},
   "outputs": [],
   "source": []
  }
 ],
 "metadata": {
  "kernelspec": {
   "display_name": "Python 3",
   "language": "python",
   "name": "python3"
  },
  "language_info": {
   "codemirror_mode": {
    "name": "ipython",
    "version": 3
   },
   "file_extension": ".py",
   "mimetype": "text/x-python",
   "name": "python",
   "nbconvert_exporter": "python",
   "pygments_lexer": "ipython3",
   "version": "3.7.4"
  }
 },
 "nbformat": 4,
 "nbformat_minor": 2
}

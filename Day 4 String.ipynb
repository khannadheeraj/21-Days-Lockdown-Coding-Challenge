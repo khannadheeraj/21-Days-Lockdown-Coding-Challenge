{
 "cells": [
  {
   "cell_type": "markdown",
   "metadata": {},
   "source": [
    "## Q 1) Implement KMP\n",
    "\n",
    "\n"
   ]
  },
  {
   "cell_type": "code",
   "execution_count": 34,
   "metadata": {},
   "outputs": [
    {
     "name": "stdout",
     "output_type": "stream",
     "text": [
      "shyh\n",
      "hy\n"
     ]
    },
    {
     "data": {
      "text/plain": [
       "True"
      ]
     },
     "execution_count": 34,
     "metadata": {},
     "output_type": "execute_result"
    }
   ],
   "source": [
    "def lpsarray(pattern):\n",
    "    m=len(pattern)\n",
    "    lps=[0]*m\n",
    "    lps[0]=0\n",
    "    j=0\n",
    "    i=1\n",
    "    while i<m:\n",
    "        if pattern[i] == pattern[j]:\n",
    "            lps[i] =lps[j] +1\n",
    "            i +=1\n",
    "            j +=1\n",
    "        else:\n",
    "            if j !=0:\n",
    "                j=lps[j-1]\n",
    "                \n",
    "            else:\n",
    "                lps[i]=0\n",
    "                i +=1\n",
    "def kmp(pattern,text):\n",
    "    m=len(pattern)\n",
    "    n=len(text)\n",
    "    lps=lpsarray(pattern)\n",
    "    i=0\n",
    "    j=0\n",
    "    while i<n:\n",
    "        if pattern[j]==text[i]:\n",
    "            i +=1\n",
    "            j +=1\n",
    "        if j==m:\n",
    "            return True\n",
    "        elif i<n and pattern[j] !=text[i]:\n",
    "            if j !=0:\n",
    "                j=lps[j-1]\n",
    "            else:\n",
    "                i +=1\n",
    "    return False\n",
    "text=input()\n",
    "pattern=input()\n",
    "kmp(pattern,text)\n",
    "            \n",
    "        \n",
    "                \n",
    "                \n",
    "        "
   ]
  },
  {
   "cell_type": "markdown",
   "metadata": {},
   "source": [
    "## Q 2) Minimum Window Substring"
   ]
  },
  {
   "cell_type": "code",
   "execution_count": 12,
   "metadata": {},
   "outputs": [],
   "source": [
    "# Given a string S and a string T, find the minimum window in S which will contain all the characters in T in complexity O(n).\n",
    "\n",
    "# Example:\n",
    "\n",
    "# Input: S = \"ADOBECODEBANC\", T = \"ABC\"\n",
    "# Output: \"BANC\""
   ]
  },
  {
   "cell_type": "code",
   "execution_count": 27,
   "metadata": {},
   "outputs": [
    {
     "data": {
      "text/plain": [
       "'BANC'"
      ]
     },
     "execution_count": 27,
     "metadata": {},
     "output_type": "execute_result"
    }
   ],
   "source": [
    "from collections import Counter\n",
    "class Solution:\n",
    "\n",
    "    \n",
    "    def minWindow(self, A, B):\n",
    "        letter_count=Counter(B)\n",
    "        target_len=len(B)\n",
    "        result=\"\"\n",
    "        left=0\n",
    "        right=0\n",
    "        for right in range(len(A)):\n",
    "            if letter_count[A[right]]>0:\n",
    "                target_len -=1\n",
    "            letter_count[A[right]] -=1\n",
    "            while target_len==0:\n",
    "                window=right-left +1\n",
    "                if not result or len(result)>window:\n",
    "                    result=A[left:right+1]\n",
    "                    \n",
    "                letter_count[A[left]] +=1\n",
    "                \n",
    "                if letter_count[A[left]]>0:\n",
    "                    target_len +=1\n",
    "                left +=1\n",
    "        return result\n",
    "t=Solution()\n",
    "S = \"ADOBECODEBANC\"\n",
    "T=\"ABC\"\n",
    "t.minWindow(S,T)\n",
    "\n",
    "\n",
    "            \n"
   ]
  },
  {
   "cell_type": "markdown",
   "metadata": {},
   "source": [
    "## Q 3) Reverse Words in a String"
   ]
  },
  {
   "cell_type": "code",
   "execution_count": 2,
   "metadata": {},
   "outputs": [],
   "source": [
    "# Given an input string, reverse the string word by word.\n",
    "\n",
    " \n",
    "\n",
    "# Example 1:\n",
    "\n",
    "# Input: \"the sky is blue\"\n",
    "# Output: \"blue is sky the\"\n",
    "# Example 2:\n",
    "\n",
    "# Input: \"  hello world!  \"\n",
    "# Output: \"world! hello\"\n",
    "# Explanation: Your reversed string should not contain leading or trailing spaces.\n",
    "# Example 3:\n",
    "\n",
    "# Input: \"a good   example\"\n",
    "# Output: \"example good a\"\n",
    "# Explanation: You need to reduce multiple spaces between two words to a single space in the reversed string."
   ]
  },
  {
   "cell_type": "code",
   "execution_count": 3,
   "metadata": {},
   "outputs": [],
   "source": [
    "class Solution(object):\n",
    "    def reverseWords(self, s):\n",
    "        \n",
    "        s=s.split(\" \")\n",
    "        s=[word for word in s if word.strip()]\n",
    "        \n",
    "        return \" \".join(s[::-1])\n",
    "        \n",
    "        "
   ]
  },
  {
   "cell_type": "markdown",
   "metadata": {},
   "source": [
    "## Q 4) Shortest Pallindrome"
   ]
  },
  {
   "cell_type": "code",
   "execution_count": 26,
   "metadata": {},
   "outputs": [],
   "source": [
    "# Given a string s, you are allowed to convert it to a palindrome by adding characters in front of it. Find and return the  shortest palindrome you can find by performing this transformation.\n",
    "\n",
    "# Example 1:\n",
    "\n",
    "# Input: \"aacecaaa\"\n",
    "# Output: \"aaacecaaa\"\n",
    "# Example 2:\n",
    "\n",
    "# Input: \"abcd\"\n",
    "# Output: \"dcbabcd\""
   ]
  },
  {
   "cell_type": "code",
   "execution_count": 74,
   "metadata": {},
   "outputs": [
    {
     "name": "stdout",
     "output_type": "stream",
     "text": [
      "abbacd\n",
      "dcabbacd\n"
     ]
    }
   ],
   "source": [
    "def lpsarray(pattern):\n",
    "    m=len(pattern)\n",
    "    lps=[0]*m\n",
    "    lps[0]=0\n",
    "    j=0\n",
    "    i=1\n",
    "    while i<m:\n",
    "        if pattern[i] == pattern[j]:\n",
    "            j +=1\n",
    "            lps[i] =j\n",
    "            i +=1   \n",
    "        else:\n",
    "            if j !=0:\n",
    "                j=lps[j-1]   \n",
    "            else:\n",
    "                lps[i]=0\n",
    "                i +=1\n",
    "    return lps[-1]\n",
    "pattern=input()\n",
    "temp=lpsarray(pattern+\"$\"+pattern[::-1])\n",
    "s1=pattern[temp:]\n",
    "\n",
    "print(s1[::-1]+pattern)\n"
   ]
  },
  {
   "cell_type": "markdown",
   "metadata": {},
   "source": [
    "## Q 5) Repeated Substring Pattern"
   ]
  },
  {
   "cell_type": "code",
   "execution_count": 77,
   "metadata": {},
   "outputs": [],
   "source": [
    "# Given a non-empty string check if it can be constructed by taking a substring of it and appending multiple copies of the substring together. You may assume the given string consists of lowercase English letters only and its length will not exceed 10000.\n",
    "\n",
    " \n",
    "\n",
    "# Example 1:\n",
    "\n",
    "# Input: \"abab\"\n",
    "# Output: True\n",
    "# Explanation: It's the substring \"ab\" twice.\n",
    "# Example 2:\n",
    "\n",
    "# Input: \"aba\"\n",
    "# Output: False\n",
    "# Example 3:\n",
    "\n",
    "# Input: \"abcabcabcabc\"\n",
    "# Output: True\n",
    "# Explanation: It's the substring \"abc\" four times. (And the substring \"abcabc\" twice.)"
   ]
  },
  {
   "cell_type": "code",
   "execution_count": 90,
   "metadata": {},
   "outputs": [
    {
     "name": "stdout",
     "output_type": "stream",
     "text": [
      "abcdabcd\n"
     ]
    },
    {
     "data": {
      "text/plain": [
       "True"
      ]
     },
     "execution_count": 90,
     "metadata": {},
     "output_type": "execute_result"
    }
   ],
   "source": [
    "class Solution(object):\n",
    "    def repeatedSubstringPattern(self, s):\n",
    "        for i in range(1,len(s)//2+1):\n",
    "            \n",
    "            if s==s[i:]+s[:i]:\n",
    "                return True\n",
    "        return False\n",
    "t=Solution()\n",
    "s=input()\n",
    "t.repeatedSubstringPattern(s)\n",
    "      \n",
    "        \n",
    "                    \n",
    "                \n",
    "            \n",
    "        "
   ]
  },
  {
   "cell_type": "code",
   "execution_count": null,
   "metadata": {},
   "outputs": [],
   "source": []
  }
 ],
 "metadata": {
  "kernelspec": {
   "display_name": "Python 3",
   "language": "python",
   "name": "python3"
  },
  "language_info": {
   "codemirror_mode": {
    "name": "ipython",
    "version": 3
   },
   "file_extension": ".py",
   "mimetype": "text/x-python",
   "name": "python",
   "nbconvert_exporter": "python",
   "pygments_lexer": "ipython3",
   "version": "3.7.4"
  }
 },
 "nbformat": 4,
 "nbformat_minor": 2
}

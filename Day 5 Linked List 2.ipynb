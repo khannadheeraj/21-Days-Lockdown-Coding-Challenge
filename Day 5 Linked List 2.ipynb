{
 "cells": [
  {
   "cell_type": "markdown",
   "metadata": {},
   "source": [
    "## Q 1) Reverse Linked List II"
   ]
  },
  {
   "cell_type": "code",
   "execution_count": 1,
   "metadata": {},
   "outputs": [],
   "source": [
    "# Reverse a linked list from position m to n. Do it in one-pass.\n",
    "\n",
    "# Note: 1 ≤ m ≤ n ≤ length of list.\n",
    "\n",
    "# Example:\n",
    "\n",
    "# Input: 1->2->3->4->5->NULL, m = 2, n = 4\n",
    "# Output: 1->4->3->2->5->NULL"
   ]
  },
  {
   "cell_type": "code",
   "execution_count": 2,
   "metadata": {},
   "outputs": [],
   "source": [
    "# Definition for singly-linked list.\n",
    "# class ListNode(object):\n",
    "#     def __init__(self, x):\n",
    "#         self.val = x\n",
    "#         self.next = None\n",
    "\n",
    "class Solution(object):\n",
    "    def reverseBetween(self, head, m, n):\n",
    "        prev=None\n",
    "        curr=head\n",
    "        while m>1:\n",
    "            prev=curr\n",
    "            curr=curr.next\n",
    "            m -=1\n",
    "            n -=1\n",
    "            \n",
    "        start=curr\n",
    "        con=prev\n",
    "        while n:\n",
    "            nextNode=curr.next\n",
    "            curr.next=prev\n",
    "            prev=curr\n",
    "            curr=nextNode\n",
    "            n -=1\n",
    "        if con:\n",
    "            con.next=prev\n",
    "        else:\n",
    "            head=prev\n",
    "        start.next=curr\n",
    "        return head\n",
    "            \n",
    "        "
   ]
  },
  {
   "cell_type": "markdown",
   "metadata": {},
   "source": [
    "## Q 2) Swap Linked List Node in Pair\n"
   ]
  },
  {
   "cell_type": "code",
   "execution_count": 3,
   "metadata": {},
   "outputs": [],
   "source": [
    "# Given a linked list, swap every two adjacent nodes and return its head.\n",
    "\n",
    "# You may not modify the values in the list's nodes, only nodes itself may be changed.\n",
    "\n",
    " \n",
    "\n",
    "# Example:\n",
    "\n",
    "# Given 1->2->3->4, you should return the list as 2->1->4->3."
   ]
  },
  {
   "cell_type": "code",
   "execution_count": 4,
   "metadata": {},
   "outputs": [],
   "source": [
    "# Definition for singly-linked list.\n",
    "# class ListNode(object):\n",
    "#     def __init__(self, x):\n",
    "#         self.val = x\n",
    "#         self.next = None\n",
    "\n",
    "class Solution(object):\n",
    "    def swapPairs(self, head):\n",
    "        if head is None or head.next is None:\n",
    "            return head\n",
    "        \n",
    "        p=head\n",
    "        new_head=p.next\n",
    "        while True:\n",
    "            q=p.next\n",
    "            temp=q.next\n",
    "            q.next=p\n",
    "            \n",
    "            if not temp or not temp.next:\n",
    "                p.next=temp\n",
    "                break\n",
    "            p.next=temp.next\n",
    "            p=temp\n",
    "        return new_head\n",
    "            \n",
    "            \n",
    "            \n",
    "        \n",
    "        "
   ]
  },
  {
   "cell_type": "code",
   "execution_count": null,
   "metadata": {},
   "outputs": [],
   "source": []
  }
 ],
 "metadata": {
  "kernelspec": {
   "display_name": "Python 3",
   "language": "python",
   "name": "python3"
  },
  "language_info": {
   "codemirror_mode": {
    "name": "ipython",
    "version": 3
   },
   "file_extension": ".py",
   "mimetype": "text/x-python",
   "name": "python",
   "nbconvert_exporter": "python",
   "pygments_lexer": "ipython3",
   "version": "3.7.4"
  }
 },
 "nbformat": 4,
 "nbformat_minor": 2
}

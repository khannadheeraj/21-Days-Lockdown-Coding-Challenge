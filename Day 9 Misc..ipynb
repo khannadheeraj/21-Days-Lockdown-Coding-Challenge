{
 "cells": [
  {
   "cell_type": "markdown",
   "metadata": {},
   "source": [
    "## Q 1) Inorder Traversal Without Recursion"
   ]
  },
  {
   "cell_type": "code",
   "execution_count": 1,
   "metadata": {},
   "outputs": [],
   "source": [
    "# Definition for a  binary tree node\n",
    "# class TreeNode:\n",
    "#\tdef __init__(self, x):\n",
    "#\t\tself.val = x\n",
    "#\t\tself.left = None\n",
    "#\t\tself.right = None\n",
    "\n",
    "class Solution:\n",
    "\t# @param A : root node of tree\n",
    "\t# @return a list of integers\n",
    "\tdef inorderTraversal(self, A):\n",
    "\t    temp=A\n",
    "\t    res=[]\n",
    "\t    stack=[]\n",
    "\t    while True:\n",
    "\t        if temp is not None:\n",
    "\t            stack.append(temp)\n",
    "\t            temp=temp.left\n",
    "\t        elif stack:\n",
    "\t            ele=stack.pop()\n",
    "\t            res.append(ele.val)\n",
    "\t            temp=ele.right\n",
    "\t        else:\n",
    "\t            break\n",
    "\t    return res\n"
   ]
  },
  {
   "cell_type": "markdown",
   "metadata": {},
   "source": [
    "## Q 2) level order Traversal"
   ]
  },
  {
   "cell_type": "code",
   "execution_count": 2,
   "metadata": {},
   "outputs": [],
   "source": [
    "\n",
    "# Definition for a  binary tree node\n",
    "# class TreeNode:\n",
    "#\tdef __init__(self, x):\n",
    "#\t\tself.val = x\n",
    "#\t\tself.left = None\n",
    "#\t\tself.right = None\n",
    "from collections import deque\n",
    "class Solution:\n",
    "\t# @param A : root node of tree\n",
    "\t# @return a list of list of integers\n",
    "\tdef levelOrder(self, A):\n",
    "\t    result=[]\n",
    "\t    if A is None:\n",
    "\t        return\n",
    "\t    queue=deque([A])\n",
    "\t    while queue:\n",
    "\t        temp=[]\n",
    "\t        for i in range(len(queue)):\n",
    "\t            node=queue.popleft()\n",
    "\t            if node.left:\n",
    "\t                queue.append(node.left)\n",
    "\t            if node.right:\n",
    "\t                queue.append(node.right)\n",
    "\t                \n",
    "\t            temp.append(node.val)\n",
    "\t        result.append(temp)\n",
    "\t    return result\n",
    "\t    \n",
    "\t        \n",
    "\t        \n"
   ]
  },
  {
   "cell_type": "markdown",
   "metadata": {},
   "source": [
    "## Q 3) Preorder Traversal Without Recursion"
   ]
  },
  {
   "cell_type": "code",
   "execution_count": 4,
   "metadata": {},
   "outputs": [],
   "source": [
    "# Definition for a  binary tree node\n",
    "# class TreeNode:\n",
    "#\tdef __init__(self, x):\n",
    "#\t\tself.val = x\n",
    "#\t\tself.left = None\n",
    "#\t\tself.right = None\n",
    "\n",
    "class Solution:\n",
    "\t# @param A : root node of tree\n",
    "\t# @return a list of integers\n",
    "\tdef preorderTraversal(self, A):\n",
    "\t    if A is None:\n",
    "\t        return\n",
    "\t    stack=[]\n",
    "\t    stack.append(A)\n",
    "\t    result=[]\n",
    "\t    while len(stack)>0:\n",
    "\t        node=stack.pop()\n",
    "\t        result.append(node.val)\n",
    "\t        if node.right is not None:\n",
    "\t            stack.append(node.right)\n",
    "\t        if node.left is not None:\n",
    "\t            stack.append(node.left)\n",
    "\t    return result\n"
   ]
  },
  {
   "cell_type": "markdown",
   "metadata": {},
   "source": [
    "## Q 4) Postorder Traversal Without Recursion"
   ]
  },
  {
   "cell_type": "code",
   "execution_count": 5,
   "metadata": {},
   "outputs": [
    {
     "ename": "TabError",
     "evalue": "inconsistent use of tabs and spaces in indentation (<ipython-input-5-039efa8ec39b>, line 13)",
     "output_type": "error",
     "traceback": [
      "\u001b[1;36m  File \u001b[1;32m\"<ipython-input-5-039efa8ec39b>\"\u001b[1;36m, line \u001b[1;32m13\u001b[0m\n\u001b[1;33m    while stack:\u001b[0m\n\u001b[1;37m                ^\u001b[0m\n\u001b[1;31mTabError\u001b[0m\u001b[1;31m:\u001b[0m inconsistent use of tabs and spaces in indentation\n"
     ]
    }
   ],
   "source": [
    "# Definition for a  binary tree node\n",
    "# class TreeNode:\n",
    "#\tdef __init__(self, x):\n",
    "#\t\tself.val = x\n",
    "#\t\tself.left = None\n",
    "#\t\tself.right = None\n",
    "\n",
    "class Solution:\n",
    "\t# @param A : root node of tree\n",
    "\t# @return a list of integers\n",
    "\tdef postorderTraversal(self, A):\n",
    "\t    traversal, stack = [], [(A, False)]\n",
    "        while stack:\n",
    "            \n",
    "            node, visited = stack.pop()\n",
    "            if node:\n",
    "                if visited:\n",
    "                    # add to result if visited\n",
    "                    traversal.append(node.val)\n",
    "                else:\n",
    "                    # post-order\n",
    "                    stack.append((node, True))\n",
    "                    stack.append((node.right, False))\n",
    "                    stack.append((node.left, False))\n",
    "\n",
    "        return traversal"
   ]
  },
  {
   "cell_type": "markdown",
   "metadata": {},
   "source": [
    "## Q 5) Construct Binary Tree From Inorder And Preorder"
   ]
  },
  {
   "cell_type": "code",
   "execution_count": 6,
   "metadata": {},
   "outputs": [],
   "source": [
    "# Definition for a  binary tree node\n",
    "# class TreeNode:\n",
    "#\tdef __init__(self, x):\n",
    "#\t\tself.val = x\n",
    "#\t\tself.left = None\n",
    "#\t\tself.right = None\n",
    "\n",
    "class Solution:\n",
    "\t# @param A : list of integers\n",
    "\t# @param B : list of integers\n",
    "\t# @return the root node in the tree\n",
    "\tdef buildTree(self, A, B):\n",
    "\t    if len(A)==0:\n",
    "\t        return None\n",
    "\t    rootData=A[0]\n",
    "\t    root=TreeNode(rootData)\n",
    "\t    for i in range(len(B)):\n",
    "\t        if B[i]==rootData:\n",
    "\t            rootIndex=i\n",
    "\t            break\n",
    "\t    leftInorder=B[0:rootIndex]\n",
    "\t    rightInorder=B[rootIndex+1:]\n",
    "\t    \n",
    "\t    lenLeftTree=len(leftInorder)\n",
    "\t    leftPreorder=A[1:lenLeftTree+1]\n",
    "\t    rightPreorder=A[lenLeftTree+1:]\n",
    "\t    leftChild=self.buildTree(leftPreorder,leftInorder)\n",
    "\t    rightChild=self.buildTree(rightPreorder,rightInorder)\n",
    "\t    \n",
    "\t    root.left=leftChild\n",
    "\t    root.right=rightChild\n",
    "\t    \n",
    "\t    return root\n",
    "\t    \n"
   ]
  },
  {
   "cell_type": "code",
   "execution_count": null,
   "metadata": {},
   "outputs": [],
   "source": []
  }
 ],
 "metadata": {
  "kernelspec": {
   "display_name": "Python 3",
   "language": "python",
   "name": "python3"
  },
  "language_info": {
   "codemirror_mode": {
    "name": "ipython",
    "version": 3
   },
   "file_extension": ".py",
   "mimetype": "text/x-python",
   "name": "python",
   "nbconvert_exporter": "python",
   "pygments_lexer": "ipython3",
   "version": "3.7.4"
  }
 },
 "nbformat": 4,
 "nbformat_minor": 2
}

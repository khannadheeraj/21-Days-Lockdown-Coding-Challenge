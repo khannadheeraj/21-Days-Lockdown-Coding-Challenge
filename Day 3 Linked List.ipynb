{
 "cells": [
  {
   "cell_type": "markdown",
   "metadata": {},
   "source": [
    "## Q 1) Reverse a single linked list\n",
    "Reverse a singly linked list.\n",
    "\n",
    "Example:\n",
    "\n",
    "Input: 1->2->3->4->5->NULL\n",
    "Output: 5->4->3->2->1->NULL\n"
   ]
  },
  {
   "cell_type": "code",
   "execution_count": null,
   "metadata": {},
   "outputs": [],
   "source": [
    "# Definition for singly-linked list.\n",
    "class ListNode(object):\n",
    "    def __init__(self, x):\n",
    "        self.val = x\n",
    "        self.next = None\n",
    "\n",
    "class Solution(object):\n",
    "    def reverseList(self, head):\n",
    "        current=head\n",
    "        prev=None\n",
    "        nextNode=None\n",
    "        \n",
    "        while current:\n",
    "            nextNode=current.next\n",
    "            current.next=prev\n",
    "            prev=current\n",
    "            current=nextNode\n",
    "        return prev"
   ]
  },
  {
   "cell_type": "markdown",
   "metadata": {},
   "source": [
    "## Q 2) Merge Two sorted List\n",
    "Merge two sorted linked lists and return it as a new list. The new list should be made by splicing together the nodes of the first two lists.\n",
    "\n",
    "Example:\n",
    "\n",
    "\n",
    "Input: 1->2->4, 1->3->4\n",
    "\n",
    "Output: 1->1->2->3->4->4"
   ]
  },
  {
   "cell_type": "code",
   "execution_count": 1,
   "metadata": {},
   "outputs": [],
   "source": [
    "# Definition for singly-linked list.\n",
    "class ListNode(object):\n",
    "    def __init__(self, x):\n",
    "        self.val = x\n",
    "        self.next = None\n",
    "\n",
    "class Solution(object):\n",
    "    def mergeTwoLists(self, l1, l2):\n",
    "        prev=dummy=ListNode(None)\n",
    "        \n",
    "        while l1 and l2:\n",
    "            if l1.val<l2.val:\n",
    "                prev.next=l1\n",
    "                l1=l1.next\n",
    "            else:\n",
    "                prev.next=l2\n",
    "                l2=l2.next\n",
    "                \n",
    "            prev=prev.next\n",
    "            \n",
    "        prev.next=l1 or l2\n",
    "        return dummy.next\n",
    "            \n",
    "     "
   ]
  },
  {
   "cell_type": "markdown",
   "metadata": {},
   "source": [
    "\n",
    "## Q 3) Remove Nth Node From End of List"
   ]
  },
  {
   "cell_type": "code",
   "execution_count": 3,
   "metadata": {},
   "outputs": [],
   "source": [
    "# Given a linked list, remove the n-th node from the end of list and return its head.\n",
    "\n",
    "# Example:\n",
    "\n",
    "# Given linked list: 1->2->3->4->5, and n = 2.\n",
    "\n",
    "# After removing the second node from the end, the linked list becomes 1->2->3->5."
   ]
  },
  {
   "cell_type": "code",
   "execution_count": null,
   "metadata": {},
   "outputs": [],
   "source": [
    "# Definition for singly-linked list.\n",
    "# class ListNode:\n",
    "#\tdef __init__(self, x):\n",
    "#\t\tself.val = x\n",
    "#\t\tself.next = None\n",
    "\n",
    "class Solution:\n",
    "\t# @param A : head node of linked list\n",
    "\t# @param B : integer\n",
    "\t# @return the head node in the linked list\n",
    "\tdef removeNthFromEnd(self, A, B):\n",
    "\t    first,second=A,A\n",
    "        for i in range(B):\n",
    "            first=first.next\n",
    "            if first is None:\n",
    "                return A.next\n",
    "            \n",
    "            \n",
    "     \n",
    "        \n",
    "        while first.next is not None:\n",
    "            first=first.next\n",
    "            second=second.next\n",
    "        second.next=second.next.next\n",
    "        \n",
    "        return A\n"
   ]
  },
  {
   "cell_type": "markdown",
   "metadata": {},
   "source": [
    "## Q 4)  Reverse Nodes in k-Group\n"
   ]
  },
  {
   "cell_type": "code",
   "execution_count": 2,
   "metadata": {},
   "outputs": [],
   "source": [
    "# Given a linked list, reverse the nodes of a linked list k at a time and return its modified list.\n",
    "\n",
    "# k is a positive integer and is less than or equal to the length of the linked list. \n",
    "# Example:\n",
    "\n",
    "# Given this linked list: 1->2->3->4->5\n",
    "\n",
    "# For k = 2, you should return: 2->1->4->3->5\n",
    "\n",
    "# For k = 3, you should return: 3->2->1->4->5\n",
    "\n",
    "# Note:\n",
    "\n",
    "# Only constant extra memory is allowed.\n",
    "# You may not alter the values in the list's nodes, only nodes itself may be changed."
   ]
  },
  {
   "cell_type": "code",
   "execution_count": 4,
   "metadata": {},
   "outputs": [],
   "source": [
    "# Definition for singly-linked list.\n",
    "# class ListNode(object):\n",
    "#     def __init__(self, x):\n",
    "#         self.val = x\n",
    "#         self.next = None\n",
    "\n",
    "class Solution(object):\n",
    "    def reverseKGroup(self, head, k):\n",
    "        \n",
    "        currentNode=head\n",
    "        nextNode=None\n",
    "        prevNode=None\n",
    "        count=0\n",
    "        \n",
    "        while currentNode is not None and count<k:\n",
    "            nextNode=currentNode.next\n",
    "            currentNode.next=prevNode\n",
    "            prevNode=currentNode\n",
    "            currentNode=nextNode\n",
    "            count +=1\n",
    "        if nextNode is not None:\n",
    "            head.next=self.reverseKGroup(nextNode,k)\n",
    "            \n",
    "        return prevNode\n",
    "            \n",
    "        \n",
    "        "
   ]
  },
  {
   "cell_type": "markdown",
   "metadata": {},
   "source": [
    "## Q 5) Remove Duplicates from Sorted List"
   ]
  },
  {
   "cell_type": "code",
   "execution_count": 6,
   "metadata": {},
   "outputs": [],
   "source": [
    "# Given a sorted linked list, delete all nodes that have duplicate numbers, leaving only distinct numbers from the original list.\n",
    "\n",
    "# Return the linked list sorted as well.\n",
    "\n",
    "# Example 1:\n",
    "\n",
    "# Input: 1->2->3->3->4->4->5\n",
    "# Output: 1->2->5\n",
    "# Example 2:\n",
    "\n",
    "# Input: 1->1->1->2->3\n",
    "# Output: 2->3"
   ]
  },
  {
   "cell_type": "code",
   "execution_count": 7,
   "metadata": {},
   "outputs": [],
   "source": [
    "# Definition for singly-linked list.\n",
    "class ListNode(object):\n",
    "    def __init__(self, x):\n",
    "        self.val = x\n",
    "        self.next = None\n",
    "\n",
    "class Solution(object):\n",
    "    def deleteDuplicates(self, head):\n",
    "        result=ListNode(0)\n",
    "        result.next=head\n",
    "        prev=result\n",
    "        current=head\n",
    "        while current:\n",
    "            if current.next and current.val==current.next.val:\n",
    "                value=current.val\n",
    "                while current and current.val==value:\n",
    "                    current=current.next\n",
    "                prev.next=current\n",
    "            else:\n",
    "                prev=prev.next\n",
    "                current=current.next\n",
    "        return result.next\n",
    "        \n",
    "            \n",
    "        "
   ]
  },
  {
   "cell_type": "markdown",
   "metadata": {},
   "source": [
    "## Q 6)  Middle of the Linked List"
   ]
  },
  {
   "cell_type": "code",
   "execution_count": 8,
   "metadata": {},
   "outputs": [],
   "source": [
    "# Given a non-empty, singly linked list with head node head, return a middle node of linked list.\n",
    "\n",
    "# If there are two middle nodes, return the second middle node.\n",
    "\n",
    " \n",
    "\n",
    "# Example 1:\n",
    "\n",
    "# Input: [1,2,3,4,5]\n",
    "# Output: Node 3 from this list (Serialization: [3,4,5])\n",
    "# The returned node has value 3.  (The judge's serialization of this node is [3,4,5]).\n",
    "# Note that we returned a ListNode object ans, such that:\n",
    "# ans.val = 3, ans.next.val = 4, ans.next.next.val = 5, and ans.next.next.next = NULL."
   ]
  },
  {
   "cell_type": "code",
   "execution_count": 9,
   "metadata": {},
   "outputs": [],
   "source": [
    "# Definition for singly-linked list.\n",
    "# class ListNode(object):\n",
    "#     def __init__(self, x):\n",
    "#         self.val = x\n",
    "#         self.next = None\n",
    "\n",
    "class Solution(object):\n",
    "    def deleteDuplicates(self, head):\n",
    "        node=head\n",
    "        \n",
    "        while node and node.next:\n",
    "            if node.val==node.next.val:\n",
    "                node.next=node.next.next\n",
    "            else:\n",
    "                node=node.next\n",
    "                \n",
    "        return head\n",
    "        "
   ]
  },
  {
   "cell_type": "markdown",
   "metadata": {},
   "source": [
    "## Q 7) Reorder List"
   ]
  },
  {
   "cell_type": "code",
   "execution_count": 10,
   "metadata": {},
   "outputs": [],
   "source": [
    "# Given a singly linked list L: L0→L1→…→Ln-1→Ln,\n",
    "# reorder it to: L0→Ln→L1→Ln-1→L2→Ln-2→…\n",
    "\n",
    "# You may not modify the values in the list's nodes, only nodes itself may be changed.\n",
    "\n",
    "# Example 1:\n",
    "\n",
    "# Given 1->2->3->4, reorder it to 1->4->2->3."
   ]
  },
  {
   "cell_type": "code",
   "execution_count": 11,
   "metadata": {},
   "outputs": [],
   "source": [
    "## Approach is first split the list in two halves (1,mid),(mid+1,len(list)) then reverse 2nd half and merge both the list\n",
    "\n",
    "class ListNode:\n",
    "    def __init__(self, x):\n",
    "        self.val = x\n",
    "        self.next = None\n",
    "\n",
    "class Solution:\n",
    "    # @param A : head node of linked list\n",
    "    # @return the head node in the linked list\n",
    "    def reorderList(self, A):\n",
    "        if not A or not A.next:\n",
    "            return A\n",
    "        def split(head):\n",
    "            fast=head\n",
    "            slow=head\n",
    "            while fast and fast.next:\n",
    "                fast=fast.next.next\n",
    "                slow=slow.next\n",
    "            middle=slow.next\n",
    "            slow.next=None\n",
    "            return head,middle\n",
    "        \n",
    "        def reverse(head):\n",
    "            current=head\n",
    "            prev=None\n",
    "            nextNode=None\n",
    "            while current:\n",
    "                nextNode=current.next\n",
    "                current.next=prev\n",
    "                prev=current\n",
    "                current=nextNode\n",
    "            return prev\n",
    "        \n",
    "        def merge(a,b):\n",
    "            \n",
    "            tail = a\n",
    "            head = a\n",
    "\n",
    "            a = a.next\n",
    "            while b:\n",
    "                tail.next = b\n",
    "                tail = tail.next\n",
    "                b = b.next\n",
    "                if a:\n",
    "                    a, b = b, a\n",
    "\n",
    "            return head\n",
    "            \n",
    "            \n",
    "        \n",
    "        \n",
    "        \n",
    "        \n",
    "        \n",
    "        \n",
    "        \n",
    "        l1,l2=split(A)\n",
    "        l2=reverse(l2)\n",
    "        result=merge(li,l2)\n",
    "        return result\n"
   ]
  },
  {
   "cell_type": "code",
   "execution_count": null,
   "metadata": {},
   "outputs": [],
   "source": []
  }
 ],
 "metadata": {
  "kernelspec": {
   "display_name": "Python 3",
   "language": "python",
   "name": "python3"
  },
  "language_info": {
   "codemirror_mode": {
    "name": "ipython",
    "version": 3
   },
   "file_extension": ".py",
   "mimetype": "text/x-python",
   "name": "python",
   "nbconvert_exporter": "python",
   "pygments_lexer": "ipython3",
   "version": "3.7.4"
  }
 },
 "nbformat": 4,
 "nbformat_minor": 2
}
